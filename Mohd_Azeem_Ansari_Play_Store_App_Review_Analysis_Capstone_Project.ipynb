{
  "nbformat": 4,
  "nbformat_minor": 0,
  "metadata": {
    "kernelspec": {
      "display_name": "Python 3",
      "language": "python",
      "name": "python3"
    },
    "language_info": {
      "codemirror_mode": {
        "name": "ipython",
        "version": 3
      },
      "file_extension": ".py",
      "mimetype": "text/x-python",
      "name": "python",
      "nbconvert_exporter": "python",
      "pygments_lexer": "ipython3",
      "version": "3.6.6"
    },
    "colab": {
      "provenance": [],
      "collapsed_sections": [],
      "include_colab_link": true
    }
  },
  "cells": [
    {
      "cell_type": "markdown",
      "metadata": {
        "id": "view-in-github",
        "colab_type": "text"
      },
      "source": [
        "<a href=\"https://colab.research.google.com/github/AZEEMAKHLAQ/Play-Store-App-Review-Data-Analysis-/blob/main/Mohd_Azeem_Ansari_Play_Store_App_Review_Analysis_Capstone_Project.ipynb\" target=\"_parent\"><img src=\"https://colab.research.google.com/assets/colab-badge.svg\" alt=\"Open In Colab\"/></a>"
      ]
    },
    {
      "cell_type": "markdown",
      "metadata": {
        "id": "Y06xIdG26kRF"
      },
      "source": [
        "## <b> The Play Store apps data has enormous potential to drive app-making businesses to success. Actionable insights can be drawn for developers to work on and capture the Android market. </b>\n",
        "\n",
        "## <b> Each app (row) has values for catergory, rating, size, and more. Another dataset contains customer reviews of the android apps.</b>\n",
        "\n",
        "## <b> Explore and analyze the data to discover key factors responsible for app engagement and success. </b>"
      ]
    },
    {
      "cell_type": "markdown",
      "source": [
        "#**Exploratory Data Analysis on Google Play Store Apps**"
      ],
      "metadata": {
        "id": "LgaQTd923rRt"
      }
    },
    {
      "cell_type": "markdown",
      "source": [
        "#Introduction"
      ],
      "metadata": {
        "id": "m_5ieZlI4Lfh"
      }
    },
    {
      "cell_type": "markdown",
      "source": [
        "This Exploratory analysis is based on the “Google play store Apps.EDA is one of the first and most important step to solve any data science problem.It helps to give valuable insights into the pattern and information it has to convey. It is an approach to analyzing data sets to summarize their main characteristics, often with visual methods.The best EDA gives the interesting results about your data."
      ],
      "metadata": {
        "id": "adyFfefX4OQB"
      }
    },
    {
      "cell_type": "markdown",
      "source": [
        "**Dataset**: The dataset consists of 13 columns:- App, Category, Rating, Reviews, Size, Installs, Type, Price, Content Rating, Genres, Last Updated, Current Ver, and Android Ver with 10841 Rows."
      ],
      "metadata": {
        "id": "oG2ADUNx4eTw"
      }
    },
    {
      "cell_type": "code",
      "metadata": {
        "id": "dByMsuzT8Tnw"
      },
      "source": [
        "# import the necessary libraries\n",
        "import numpy as np\n",
        "import pandas as pd\n",
        "import matplotlib.pyplot as plt\n",
        "import seaborn as sns\n",
        "%matplotlib inline"
      ],
      "execution_count": 2,
      "outputs": []
    },
    {
      "cell_type": "code",
      "source": [
        "#mounting drive\n",
        "from google.colab import drive\n",
        "drive.mount('/content/drive/')"
      ],
      "metadata": {
        "id": "mP5lIbxO5zJS",
        "outputId": "9f2b0e2c-3dc2-4073-a69f-f058b88ace21",
        "colab": {
          "base_uri": "https://localhost:8080/"
        }
      },
      "execution_count": 3,
      "outputs": [
        {
          "output_type": "stream",
          "name": "stdout",
          "text": [
            "Mounted at /content/drive/\n"
          ]
        }
      ]
    },
    {
      "cell_type": "markdown",
      "source": [
        "Loading the dataset as a pandas data frame."
      ],
      "metadata": {
        "id": "O8iXmO8z4sAo"
      }
    },
    {
      "cell_type": "code",
      "source": [
        "#getting dataframes\n",
        "path1='/content/drive/MyDrive/Almabetter/Capstone Projects/Capstone Project 1 - EDA of Playstore App/Play Store Data.csv'\n",
        "ps_df1 = pd.read_csv(path1)\n",
        "\n",
        "path2='/content/drive/MyDrive/Almabetter/Capstone Projects/Capstone Project 1 - EDA of Playstore App/User Reviews.csv'\n",
        "ps_df2 = pd.read_csv(path2)"
      ],
      "metadata": {
        "id": "xKbMJ5N95zGH"
      },
      "execution_count": 4,
      "outputs": []
    },
    {
      "cell_type": "markdown",
      "source": [
        "Looking into the given dataframe"
      ],
      "metadata": {
        "id": "IZOeAtuW4_J3"
      }
    },
    {
      "cell_type": "code",
      "source": [
        "ps_df1.head(2)"
      ],
      "metadata": {
        "id": "J290CWZJ5zDR",
        "outputId": "e9b122e1-72c9-43fa-deb4-c93c2d83bffe",
        "colab": {
          "base_uri": "https://localhost:8080/",
          "height": 208
        }
      },
      "execution_count": 5,
      "outputs": [
        {
          "output_type": "execute_result",
          "data": {
            "text/plain": [
              "                                              App        Category  Rating  \\\n",
              "0  Photo Editor & Candy Camera & Grid & ScrapBook  ART_AND_DESIGN     4.1   \n",
              "1                             Coloring book moana  ART_AND_DESIGN     3.9   \n",
              "\n",
              "  Reviews Size  Installs  Type Price Content Rating  \\\n",
              "0     159  19M   10,000+  Free     0       Everyone   \n",
              "1     967  14M  500,000+  Free     0       Everyone   \n",
              "\n",
              "                      Genres      Last Updated Current Ver   Android Ver  \n",
              "0               Art & Design   January 7, 2018       1.0.0  4.0.3 and up  \n",
              "1  Art & Design;Pretend Play  January 15, 2018       2.0.0  4.0.3 and up  "
            ],
            "text/html": [
              "\n",
              "  <div id=\"df-62d0b9ea-9e67-4991-b9fd-c2517e58dec9\">\n",
              "    <div class=\"colab-df-container\">\n",
              "      <div>\n",
              "<style scoped>\n",
              "    .dataframe tbody tr th:only-of-type {\n",
              "        vertical-align: middle;\n",
              "    }\n",
              "\n",
              "    .dataframe tbody tr th {\n",
              "        vertical-align: top;\n",
              "    }\n",
              "\n",
              "    .dataframe thead th {\n",
              "        text-align: right;\n",
              "    }\n",
              "</style>\n",
              "<table border=\"1\" class=\"dataframe\">\n",
              "  <thead>\n",
              "    <tr style=\"text-align: right;\">\n",
              "      <th></th>\n",
              "      <th>App</th>\n",
              "      <th>Category</th>\n",
              "      <th>Rating</th>\n",
              "      <th>Reviews</th>\n",
              "      <th>Size</th>\n",
              "      <th>Installs</th>\n",
              "      <th>Type</th>\n",
              "      <th>Price</th>\n",
              "      <th>Content Rating</th>\n",
              "      <th>Genres</th>\n",
              "      <th>Last Updated</th>\n",
              "      <th>Current Ver</th>\n",
              "      <th>Android Ver</th>\n",
              "    </tr>\n",
              "  </thead>\n",
              "  <tbody>\n",
              "    <tr>\n",
              "      <th>0</th>\n",
              "      <td>Photo Editor &amp; Candy Camera &amp; Grid &amp; ScrapBook</td>\n",
              "      <td>ART_AND_DESIGN</td>\n",
              "      <td>4.1</td>\n",
              "      <td>159</td>\n",
              "      <td>19M</td>\n",
              "      <td>10,000+</td>\n",
              "      <td>Free</td>\n",
              "      <td>0</td>\n",
              "      <td>Everyone</td>\n",
              "      <td>Art &amp; Design</td>\n",
              "      <td>January 7, 2018</td>\n",
              "      <td>1.0.0</td>\n",
              "      <td>4.0.3 and up</td>\n",
              "    </tr>\n",
              "    <tr>\n",
              "      <th>1</th>\n",
              "      <td>Coloring book moana</td>\n",
              "      <td>ART_AND_DESIGN</td>\n",
              "      <td>3.9</td>\n",
              "      <td>967</td>\n",
              "      <td>14M</td>\n",
              "      <td>500,000+</td>\n",
              "      <td>Free</td>\n",
              "      <td>0</td>\n",
              "      <td>Everyone</td>\n",
              "      <td>Art &amp; Design;Pretend Play</td>\n",
              "      <td>January 15, 2018</td>\n",
              "      <td>2.0.0</td>\n",
              "      <td>4.0.3 and up</td>\n",
              "    </tr>\n",
              "  </tbody>\n",
              "</table>\n",
              "</div>\n",
              "      <button class=\"colab-df-convert\" onclick=\"convertToInteractive('df-62d0b9ea-9e67-4991-b9fd-c2517e58dec9')\"\n",
              "              title=\"Convert this dataframe to an interactive table.\"\n",
              "              style=\"display:none;\">\n",
              "        \n",
              "  <svg xmlns=\"http://www.w3.org/2000/svg\" height=\"24px\"viewBox=\"0 0 24 24\"\n",
              "       width=\"24px\">\n",
              "    <path d=\"M0 0h24v24H0V0z\" fill=\"none\"/>\n",
              "    <path d=\"M18.56 5.44l.94 2.06.94-2.06 2.06-.94-2.06-.94-.94-2.06-.94 2.06-2.06.94zm-11 1L8.5 8.5l.94-2.06 2.06-.94-2.06-.94L8.5 2.5l-.94 2.06-2.06.94zm10 10l.94 2.06.94-2.06 2.06-.94-2.06-.94-.94-2.06-.94 2.06-2.06.94z\"/><path d=\"M17.41 7.96l-1.37-1.37c-.4-.4-.92-.59-1.43-.59-.52 0-1.04.2-1.43.59L10.3 9.45l-7.72 7.72c-.78.78-.78 2.05 0 2.83L4 21.41c.39.39.9.59 1.41.59.51 0 1.02-.2 1.41-.59l7.78-7.78 2.81-2.81c.8-.78.8-2.07 0-2.86zM5.41 20L4 18.59l7.72-7.72 1.47 1.35L5.41 20z\"/>\n",
              "  </svg>\n",
              "      </button>\n",
              "      \n",
              "  <style>\n",
              "    .colab-df-container {\n",
              "      display:flex;\n",
              "      flex-wrap:wrap;\n",
              "      gap: 12px;\n",
              "    }\n",
              "\n",
              "    .colab-df-convert {\n",
              "      background-color: #E8F0FE;\n",
              "      border: none;\n",
              "      border-radius: 50%;\n",
              "      cursor: pointer;\n",
              "      display: none;\n",
              "      fill: #1967D2;\n",
              "      height: 32px;\n",
              "      padding: 0 0 0 0;\n",
              "      width: 32px;\n",
              "    }\n",
              "\n",
              "    .colab-df-convert:hover {\n",
              "      background-color: #E2EBFA;\n",
              "      box-shadow: 0px 1px 2px rgba(60, 64, 67, 0.3), 0px 1px 3px 1px rgba(60, 64, 67, 0.15);\n",
              "      fill: #174EA6;\n",
              "    }\n",
              "\n",
              "    [theme=dark] .colab-df-convert {\n",
              "      background-color: #3B4455;\n",
              "      fill: #D2E3FC;\n",
              "    }\n",
              "\n",
              "    [theme=dark] .colab-df-convert:hover {\n",
              "      background-color: #434B5C;\n",
              "      box-shadow: 0px 1px 3px 1px rgba(0, 0, 0, 0.15);\n",
              "      filter: drop-shadow(0px 1px 2px rgba(0, 0, 0, 0.3));\n",
              "      fill: #FFFFFF;\n",
              "    }\n",
              "  </style>\n",
              "\n",
              "      <script>\n",
              "        const buttonEl =\n",
              "          document.querySelector('#df-62d0b9ea-9e67-4991-b9fd-c2517e58dec9 button.colab-df-convert');\n",
              "        buttonEl.style.display =\n",
              "          google.colab.kernel.accessAllowed ? 'block' : 'none';\n",
              "\n",
              "        async function convertToInteractive(key) {\n",
              "          const element = document.querySelector('#df-62d0b9ea-9e67-4991-b9fd-c2517e58dec9');\n",
              "          const dataTable =\n",
              "            await google.colab.kernel.invokeFunction('convertToInteractive',\n",
              "                                                     [key], {});\n",
              "          if (!dataTable) return;\n",
              "\n",
              "          const docLinkHtml = 'Like what you see? Visit the ' +\n",
              "            '<a target=\"_blank\" href=https://colab.research.google.com/notebooks/data_table.ipynb>data table notebook</a>'\n",
              "            + ' to learn more about interactive tables.';\n",
              "          element.innerHTML = '';\n",
              "          dataTable['output_type'] = 'display_data';\n",
              "          await google.colab.output.renderOutput(dataTable, element);\n",
              "          const docLink = document.createElement('div');\n",
              "          docLink.innerHTML = docLinkHtml;\n",
              "          element.appendChild(docLink);\n",
              "        }\n",
              "      </script>\n",
              "    </div>\n",
              "  </div>\n",
              "  "
            ]
          },
          "metadata": {},
          "execution_count": 5
        }
      ]
    },
    {
      "cell_type": "code",
      "source": [
        "ps_df1.info()"
      ],
      "metadata": {
        "id": "FVUIYODq5y9n",
        "outputId": "2d35c76d-b65b-4174-ec8d-bf040bf3e8e5",
        "colab": {
          "base_uri": "https://localhost:8080/"
        }
      },
      "execution_count": 6,
      "outputs": [
        {
          "output_type": "stream",
          "name": "stdout",
          "text": [
            "<class 'pandas.core.frame.DataFrame'>\n",
            "RangeIndex: 10841 entries, 0 to 10840\n",
            "Data columns (total 13 columns):\n",
            " #   Column          Non-Null Count  Dtype  \n",
            "---  ------          --------------  -----  \n",
            " 0   App             10841 non-null  object \n",
            " 1   Category        10841 non-null  object \n",
            " 2   Rating          9367 non-null   float64\n",
            " 3   Reviews         10841 non-null  object \n",
            " 4   Size            10841 non-null  object \n",
            " 5   Installs        10841 non-null  object \n",
            " 6   Type            10840 non-null  object \n",
            " 7   Price           10841 non-null  object \n",
            " 8   Content Rating  10840 non-null  object \n",
            " 9   Genres          10841 non-null  object \n",
            " 10  Last Updated    10841 non-null  object \n",
            " 11  Current Ver     10833 non-null  object \n",
            " 12  Android Ver     10838 non-null  object \n",
            "dtypes: float64(1), object(12)\n",
            "memory usage: 1.1+ MB\n"
          ]
        }
      ]
    },
    {
      "cell_type": "code",
      "source": [
        "ps_df1.shape"
      ],
      "metadata": {
        "id": "Jf-W75Sk5y7L",
        "outputId": "5c881705-c17f-4aba-8495-fdbd0a990fdd",
        "colab": {
          "base_uri": "https://localhost:8080/"
        }
      },
      "execution_count": 7,
      "outputs": [
        {
          "output_type": "execute_result",
          "data": {
            "text/plain": [
              "(10841, 13)"
            ]
          },
          "metadata": {},
          "execution_count": 7
        }
      ]
    },
    {
      "cell_type": "code",
      "source": [
        "ps_df1.describe()"
      ],
      "metadata": {
        "id": "CaaeHuuz5y4t",
        "outputId": "ba824714-8135-48e4-e704-7ba46df984a9",
        "colab": {
          "base_uri": "https://localhost:8080/",
          "height": 300
        }
      },
      "execution_count": 8,
      "outputs": [
        {
          "output_type": "execute_result",
          "data": {
            "text/plain": [
              "            Rating\n",
              "count  9367.000000\n",
              "mean      4.193338\n",
              "std       0.537431\n",
              "min       1.000000\n",
              "25%       4.000000\n",
              "50%       4.300000\n",
              "75%       4.500000\n",
              "max      19.000000"
            ],
            "text/html": [
              "\n",
              "  <div id=\"df-866b9b26-227f-4dc1-98d1-122ce5f85ad5\">\n",
              "    <div class=\"colab-df-container\">\n",
              "      <div>\n",
              "<style scoped>\n",
              "    .dataframe tbody tr th:only-of-type {\n",
              "        vertical-align: middle;\n",
              "    }\n",
              "\n",
              "    .dataframe tbody tr th {\n",
              "        vertical-align: top;\n",
              "    }\n",
              "\n",
              "    .dataframe thead th {\n",
              "        text-align: right;\n",
              "    }\n",
              "</style>\n",
              "<table border=\"1\" class=\"dataframe\">\n",
              "  <thead>\n",
              "    <tr style=\"text-align: right;\">\n",
              "      <th></th>\n",
              "      <th>Rating</th>\n",
              "    </tr>\n",
              "  </thead>\n",
              "  <tbody>\n",
              "    <tr>\n",
              "      <th>count</th>\n",
              "      <td>9367.000000</td>\n",
              "    </tr>\n",
              "    <tr>\n",
              "      <th>mean</th>\n",
              "      <td>4.193338</td>\n",
              "    </tr>\n",
              "    <tr>\n",
              "      <th>std</th>\n",
              "      <td>0.537431</td>\n",
              "    </tr>\n",
              "    <tr>\n",
              "      <th>min</th>\n",
              "      <td>1.000000</td>\n",
              "    </tr>\n",
              "    <tr>\n",
              "      <th>25%</th>\n",
              "      <td>4.000000</td>\n",
              "    </tr>\n",
              "    <tr>\n",
              "      <th>50%</th>\n",
              "      <td>4.300000</td>\n",
              "    </tr>\n",
              "    <tr>\n",
              "      <th>75%</th>\n",
              "      <td>4.500000</td>\n",
              "    </tr>\n",
              "    <tr>\n",
              "      <th>max</th>\n",
              "      <td>19.000000</td>\n",
              "    </tr>\n",
              "  </tbody>\n",
              "</table>\n",
              "</div>\n",
              "      <button class=\"colab-df-convert\" onclick=\"convertToInteractive('df-866b9b26-227f-4dc1-98d1-122ce5f85ad5')\"\n",
              "              title=\"Convert this dataframe to an interactive table.\"\n",
              "              style=\"display:none;\">\n",
              "        \n",
              "  <svg xmlns=\"http://www.w3.org/2000/svg\" height=\"24px\"viewBox=\"0 0 24 24\"\n",
              "       width=\"24px\">\n",
              "    <path d=\"M0 0h24v24H0V0z\" fill=\"none\"/>\n",
              "    <path d=\"M18.56 5.44l.94 2.06.94-2.06 2.06-.94-2.06-.94-.94-2.06-.94 2.06-2.06.94zm-11 1L8.5 8.5l.94-2.06 2.06-.94-2.06-.94L8.5 2.5l-.94 2.06-2.06.94zm10 10l.94 2.06.94-2.06 2.06-.94-2.06-.94-.94-2.06-.94 2.06-2.06.94z\"/><path d=\"M17.41 7.96l-1.37-1.37c-.4-.4-.92-.59-1.43-.59-.52 0-1.04.2-1.43.59L10.3 9.45l-7.72 7.72c-.78.78-.78 2.05 0 2.83L4 21.41c.39.39.9.59 1.41.59.51 0 1.02-.2 1.41-.59l7.78-7.78 2.81-2.81c.8-.78.8-2.07 0-2.86zM5.41 20L4 18.59l7.72-7.72 1.47 1.35L5.41 20z\"/>\n",
              "  </svg>\n",
              "      </button>\n",
              "      \n",
              "  <style>\n",
              "    .colab-df-container {\n",
              "      display:flex;\n",
              "      flex-wrap:wrap;\n",
              "      gap: 12px;\n",
              "    }\n",
              "\n",
              "    .colab-df-convert {\n",
              "      background-color: #E8F0FE;\n",
              "      border: none;\n",
              "      border-radius: 50%;\n",
              "      cursor: pointer;\n",
              "      display: none;\n",
              "      fill: #1967D2;\n",
              "      height: 32px;\n",
              "      padding: 0 0 0 0;\n",
              "      width: 32px;\n",
              "    }\n",
              "\n",
              "    .colab-df-convert:hover {\n",
              "      background-color: #E2EBFA;\n",
              "      box-shadow: 0px 1px 2px rgba(60, 64, 67, 0.3), 0px 1px 3px 1px rgba(60, 64, 67, 0.15);\n",
              "      fill: #174EA6;\n",
              "    }\n",
              "\n",
              "    [theme=dark] .colab-df-convert {\n",
              "      background-color: #3B4455;\n",
              "      fill: #D2E3FC;\n",
              "    }\n",
              "\n",
              "    [theme=dark] .colab-df-convert:hover {\n",
              "      background-color: #434B5C;\n",
              "      box-shadow: 0px 1px 3px 1px rgba(0, 0, 0, 0.15);\n",
              "      filter: drop-shadow(0px 1px 2px rgba(0, 0, 0, 0.3));\n",
              "      fill: #FFFFFF;\n",
              "    }\n",
              "  </style>\n",
              "\n",
              "      <script>\n",
              "        const buttonEl =\n",
              "          document.querySelector('#df-866b9b26-227f-4dc1-98d1-122ce5f85ad5 button.colab-df-convert');\n",
              "        buttonEl.style.display =\n",
              "          google.colab.kernel.accessAllowed ? 'block' : 'none';\n",
              "\n",
              "        async function convertToInteractive(key) {\n",
              "          const element = document.querySelector('#df-866b9b26-227f-4dc1-98d1-122ce5f85ad5');\n",
              "          const dataTable =\n",
              "            await google.colab.kernel.invokeFunction('convertToInteractive',\n",
              "                                                     [key], {});\n",
              "          if (!dataTable) return;\n",
              "\n",
              "          const docLinkHtml = 'Like what you see? Visit the ' +\n",
              "            '<a target=\"_blank\" href=https://colab.research.google.com/notebooks/data_table.ipynb>data table notebook</a>'\n",
              "            + ' to learn more about interactive tables.';\n",
              "          element.innerHTML = '';\n",
              "          dataTable['output_type'] = 'display_data';\n",
              "          await google.colab.output.renderOutput(dataTable, element);\n",
              "          const docLink = document.createElement('div');\n",
              "          docLink.innerHTML = docLinkHtml;\n",
              "          element.appendChild(docLink);\n",
              "        }\n",
              "      </script>\n",
              "    </div>\n",
              "  </div>\n",
              "  "
            ]
          },
          "metadata": {},
          "execution_count": 8
        }
      ]
    },
    {
      "cell_type": "code",
      "source": [
        "ps_df1.columns"
      ],
      "metadata": {
        "id": "FAFH4Fh55ywY",
        "outputId": "7501d287-45b9-4b5e-eef6-9c9510693725",
        "colab": {
          "base_uri": "https://localhost:8080/"
        }
      },
      "execution_count": 9,
      "outputs": [
        {
          "output_type": "execute_result",
          "data": {
            "text/plain": [
              "Index(['App', 'Category', 'Rating', 'Reviews', 'Size', 'Installs', 'Type',\n",
              "       'Price', 'Content Rating', 'Genres', 'Last Updated', 'Current Ver',\n",
              "       'Android Ver'],\n",
              "      dtype='object')"
            ]
          },
          "metadata": {},
          "execution_count": 9
        }
      ]
    },
    {
      "cell_type": "markdown",
      "source": [
        "1.App -Application name\n",
        "\n",
        "2.Category- Category the app belongs to\n",
        "\n",
        "3.Rating-Overall user rating of the app\n",
        "\n",
        "4.Reviews-Number of user reviews for the app\n",
        "\n",
        "5.Size-Size of the app\n",
        "\n",
        "6.Installs-Number of user downloads/installs for the app\n",
        "\n",
        "7.Type-Paid or Free\n",
        "\n",
        "8.Price-Price of the app\n",
        "\n",
        "9.Content Rating-Age group the app is targeted at — Children / Mature 21+ / Adult\n",
        "\n",
        "10.Genres-An app can belong to multiple genres (apart from its main category). For eg, a musical family game will belong to\n",
        "\n",
        "11.Last Updated- Date when was the application last updated.\n",
        "\n",
        "12.Current ver -Current version of the app\n",
        "\n",
        "13.Android ver -Which android version the app can supports."
      ],
      "metadata": {
        "id": "jcuYbuCN5QkG"
      }
    },
    {
      "cell_type": "code",
      "source": [
        "# type of Category\n",
        "ps_df1['Category'].unique()"
      ],
      "metadata": {
        "id": "RLZ6OwyH5ypV",
        "outputId": "d4919b0c-be67-4830-85dd-114c7eff6bd1",
        "colab": {
          "base_uri": "https://localhost:8080/"
        }
      },
      "execution_count": 10,
      "outputs": [
        {
          "output_type": "execute_result",
          "data": {
            "text/plain": [
              "array(['ART_AND_DESIGN', 'AUTO_AND_VEHICLES', 'BEAUTY',\n",
              "       'BOOKS_AND_REFERENCE', 'BUSINESS', 'COMICS', 'COMMUNICATION',\n",
              "       'DATING', 'EDUCATION', 'ENTERTAINMENT', 'EVENTS', 'FINANCE',\n",
              "       'FOOD_AND_DRINK', 'HEALTH_AND_FITNESS', 'HOUSE_AND_HOME',\n",
              "       'LIBRARIES_AND_DEMO', 'LIFESTYLE', 'GAME', 'FAMILY', 'MEDICAL',\n",
              "       'SOCIAL', 'SHOPPING', 'PHOTOGRAPHY', 'SPORTS', 'TRAVEL_AND_LOCAL',\n",
              "       'TOOLS', 'PERSONALIZATION', 'PRODUCTIVITY', 'PARENTING', 'WEATHER',\n",
              "       'VIDEO_PLAYERS', 'NEWS_AND_MAGAZINES', 'MAPS_AND_NAVIGATION',\n",
              "       '1.9'], dtype=object)"
            ]
          },
          "metadata": {},
          "execution_count": 10
        }
      ]
    },
    {
      "cell_type": "code",
      "source": [
        "# type of Type\n",
        "ps_df1['Type'].unique()"
      ],
      "metadata": {
        "id": "6zbZleoK5ymN",
        "outputId": "9755d0a1-e8e5-4991-dc98-c1809920f45b",
        "colab": {
          "base_uri": "https://localhost:8080/"
        }
      },
      "execution_count": 11,
      "outputs": [
        {
          "output_type": "execute_result",
          "data": {
            "text/plain": [
              "array(['Free', 'Paid', nan, '0'], dtype=object)"
            ]
          },
          "metadata": {},
          "execution_count": 11
        }
      ]
    },
    {
      "cell_type": "code",
      "source": [
        "# type of Content Rating\n",
        "ps_df1['Content Rating'].unique()"
      ],
      "metadata": {
        "id": "2hmaVOvu5yjh",
        "outputId": "d6f463f9-a434-4db7-dc2a-d0215f62ab60",
        "colab": {
          "base_uri": "https://localhost:8080/"
        }
      },
      "execution_count": 12,
      "outputs": [
        {
          "output_type": "execute_result",
          "data": {
            "text/plain": [
              "array(['Everyone', 'Teen', 'Everyone 10+', 'Mature 17+',\n",
              "       'Adults only 18+', 'Unrated', nan], dtype=object)"
            ]
          },
          "metadata": {},
          "execution_count": 12
        }
      ]
    },
    {
      "cell_type": "code",
      "source": [
        "# look that the info of the dataframe\n",
        "ps_df1.info()"
      ],
      "metadata": {
        "id": "2R3jnR1y5ygS",
        "outputId": "73c2b809-4e40-4066-dbc5-14fe56997819",
        "colab": {
          "base_uri": "https://localhost:8080/"
        }
      },
      "execution_count": 13,
      "outputs": [
        {
          "output_type": "stream",
          "name": "stdout",
          "text": [
            "<class 'pandas.core.frame.DataFrame'>\n",
            "RangeIndex: 10841 entries, 0 to 10840\n",
            "Data columns (total 13 columns):\n",
            " #   Column          Non-Null Count  Dtype  \n",
            "---  ------          --------------  -----  \n",
            " 0   App             10841 non-null  object \n",
            " 1   Category        10841 non-null  object \n",
            " 2   Rating          9367 non-null   float64\n",
            " 3   Reviews         10841 non-null  object \n",
            " 4   Size            10841 non-null  object \n",
            " 5   Installs        10841 non-null  object \n",
            " 6   Type            10840 non-null  object \n",
            " 7   Price           10841 non-null  object \n",
            " 8   Content Rating  10840 non-null  object \n",
            " 9   Genres          10841 non-null  object \n",
            " 10  Last Updated    10841 non-null  object \n",
            " 11  Current Ver     10833 non-null  object \n",
            " 12  Android Ver     10838 non-null  object \n",
            "dtypes: float64(1), object(12)\n",
            "memory usage: 1.1+ MB\n"
          ]
        }
      ]
    },
    {
      "cell_type": "markdown",
      "source": [
        "From above information, we can say that in a data frame :\n",
        "\n",
        "1.There are 13 columns of properties with 10841 rows of data.\n",
        "\n",
        "2.Column 'Reviews', 'Size', 'Installs' and 'Price' are in the type of 'object'.\n",
        "\n",
        "3.Values of column 'Size' are strings representing size in 'M' as Megabytes, 'k' as kilobytes and also 'Varies with devices'.\n",
        "\n",
        "4.Values of column 'Installs' are strings representing install amount with symbols such as ',' and '+'.\n",
        "\n",
        "5.Values of column 'Price' are strings representing price with symbol '$'.\n",
        "Hence, we will need to do some data cleaning."
      ],
      "metadata": {
        "id": "LAv3Y-j9tgYZ"
      }
    },
    {
      "cell_type": "markdown",
      "source": [
        "#Data cleaning- converting columns into required dataypes and removing NaN values"
      ],
      "metadata": {
        "id": "6ln1dEC54YQF"
      }
    },
    {
      "cell_type": "markdown",
      "source": [
        "1) Cleaning the 'Reviews' data and convering its type from 'object' to 'float' to perform different operations."
      ],
      "metadata": {
        "id": "z_L0ExCWe_E8"
      }
    },
    {
      "cell_type": "code",
      "source": [
        "#Code\n",
        "# As 'M' has been found the in reviews data i.e. Milliom this function replace it with Million\n",
        "\n",
        "reviews = [i for i in ps_df1['Reviews']] # for loop to access each element in the Reviews columns\n",
        "def clean_reviews(reviews_list): #function for cleaning data and converting M to million\n",
        "    \n",
        "    cleaned_data = [] # Empty list to store Cleaned Review Data.\n",
        "    for review in reviews_list:\n",
        "        if 'M' in review:\n",
        "            review = review.replace('M','')\n",
        "            review = float(review)* 1000000  # 1M = 1,000,000\n",
        "        cleaned_data.append(review)\n",
        "    return cleaned_data\n",
        "\n",
        "ps_df1['Reviews'] = clean_reviews(reviews)\n",
        "ps_df1['Reviews'] = ps_df1['Reviews'].astype(float) # Converting datatypes of each elemetn of Reviews Column from 'object to 'float'using astype() function.  "
      ],
      "metadata": {
        "id": "t9voqRrt4Xcl"
      },
      "execution_count": 14,
      "outputs": []
    },
    {
      "cell_type": "code",
      "source": [
        "type(ps_df1['Reviews'][2]) # checking datatype of an elemt of Reviews column i.e converted to float"
      ],
      "metadata": {
        "id": "-8iSmtMcPMTR",
        "outputId": "1a50880b-1474-46c0-d727-f2ff08d6d4bf",
        "colab": {
          "base_uri": "https://localhost:8080/"
        }
      },
      "execution_count": 15,
      "outputs": [
        {
          "output_type": "execute_result",
          "data": {
            "text/plain": [
              "numpy.float64"
            ]
          },
          "metadata": {},
          "execution_count": 15
        }
      ]
    },
    {
      "cell_type": "markdown",
      "source": [
        "2. Cleaning the 'Size' Column data and converting its datatype from 'object' to 'float'"
      ],
      "metadata": {
        "id": "-A7PoCss5G1G"
      }
    },
    {
      "cell_type": "code",
      "source": [
        "# Code\n",
        "\n",
        "# There we found one value with '1,000+' in one of record so we can remove it from our dataframe as it is not clear whether it is'M'(Megabyte) or 'k(kilobyte)'.\n",
        "index = ps_df1[ps_df1['Size'] == '1,000+'].index\n",
        "ps_df1.drop(axis=0, inplace=True, index=index)\n",
        "\n",
        "sizes = [i for i in ps_df1['Size']]  # for loop to access each element in the Size columns\n",
        "\n",
        "#As sizes are represented in 'M' and 'k', we remove 'M' and convert 'k'/kilobytes into megabytes\n",
        "\n",
        "def clean_sizes(sizes_list): # function for cleaning Size data i.e  removing M and converting kilobytes to megabytes so that all alements have same unit.\n",
        "    \n",
        "    \n",
        "    cleaned_data = [] # Empty list to store Cleaned Size Data.\n",
        "\n",
        "    for size in sizes_list:\n",
        "        if 'M' in size:\n",
        "            size = size.replace('M', '') # removing 'M\n",
        "            size = float(size)\n",
        "        elif 'k' in size:\n",
        "            size = size.replace('k', '')\n",
        "            size = float(size)\n",
        "            size = size/1024  # converting kb to mb as 1 megabyte = 1024 kilobytes\n",
        "        \n",
        "        elif 'Varies with device' in size: \n",
        "            size = float(0) # replacing 'Varies with device' with value 0\n",
        "        cleaned_data.append(size)\n",
        "    return cleaned_data\n",
        "\n",
        "ps_df1['Size'] = clean_sizes(sizes)\n",
        "ps_df1['Size'] = ps_df1['Size'].astype(float) # Converting datatypes of each elemetn of Size Column from 'object to 'float' using astype() function. "
      ],
      "metadata": {
        "id": "p2wb3MQI5yeI"
      },
      "execution_count": 16,
      "outputs": []
    },
    {
      "cell_type": "markdown",
      "source": [
        "3) Cleaning the 'Installs' data and convering its type from 'object' to 'float'."
      ],
      "metadata": {
        "id": "I5Y8h7AM8Ydo"
      }
    },
    {
      "cell_type": "code",
      "source": [
        "# Code\n",
        "def clean_installs(install): # function for cleaning 'Installs' column data i.e  removing '+' ans','\n",
        "  install = install.replace('+','')  \n",
        "  install = install.replace(',','')\n",
        "  install = int(install)\n",
        "  return install\n",
        "ps_df1['Installs'] = ps_df1['Installs'].apply(lambda x : clean_installs(x))"
      ],
      "metadata": {
        "id": "U0Vqo8huI-Ts"
      },
      "execution_count": 17,
      "outputs": []
    },
    {
      "cell_type": "code",
      "source": [
        "ps_df1['Installs'] =ps_df1['Installs'].astype(float) # Converting its datatype to float using astype() function"
      ],
      "metadata": {
        "id": "EilDt1e_LI4k"
      },
      "execution_count": 18,
      "outputs": []
    },
    {
      "cell_type": "code",
      "source": [
        "type(ps_df1['Installs'][2])"
      ],
      "metadata": {
        "id": "OVbF25n0PfMX",
        "outputId": "dbf9097b-9dc6-46e9-fe65-ed95ce8c1960",
        "colab": {
          "base_uri": "https://localhost:8080/"
        }
      },
      "execution_count": 19,
      "outputs": [
        {
          "output_type": "execute_result",
          "data": {
            "text/plain": [
              "numpy.float64"
            ]
          },
          "metadata": {},
          "execution_count": 19
        }
      ]
    },
    {
      "cell_type": "markdown",
      "source": [
        "4) Cleaning the 'Price' data and converting its datatype from 'object' to 'float'."
      ],
      "metadata": {
        "id": "nxwWM1NL-ofb"
      }
    },
    {
      "cell_type": "code",
      "source": [
        "#Code\n",
        "prices = [i for i in ps_df1['Price']] # for loop to access each element in the 'Price' column\n",
        "\n",
        "def clean_prices(prices_list):  # function for cleaning Price data i.e removing $(Dollar) sign\n",
        "\n",
        "    cleaned_data = [] # Empty list to store Cleaned Price Data.\n",
        "    for price in prices_list:\n",
        "        if '$' in price:\n",
        "            price = price.replace('$', '') # removing $ sign\n",
        "        cleaned_data.append(price)\n",
        "    return cleaned_data\n",
        "\n",
        "ps_df1['Price'] = clean_prices(prices)\n",
        "ps_df1['Price'] = ps_df1['Price'].astype(float)# Converting datatypes of each elemetn of 'Price' Column from 'object to 'float' using astype() function. "
      ],
      "metadata": {
        "id": "L-sEGrR75yTM"
      },
      "execution_count": 20,
      "outputs": []
    },
    {
      "cell_type": "code",
      "source": [
        "# checking the information in the apps dataframe to verify the cleaned columns\n",
        "ps_df1.info()"
      ],
      "metadata": {
        "id": "boJFNeVo5yOi",
        "outputId": "7d50d513-1d9e-4b50-d04b-ce2d21e60eff",
        "colab": {
          "base_uri": "https://localhost:8080/"
        }
      },
      "execution_count": 21,
      "outputs": [
        {
          "output_type": "stream",
          "name": "stdout",
          "text": [
            "<class 'pandas.core.frame.DataFrame'>\n",
            "Int64Index: 10840 entries, 0 to 10840\n",
            "Data columns (total 13 columns):\n",
            " #   Column          Non-Null Count  Dtype  \n",
            "---  ------          --------------  -----  \n",
            " 0   App             10840 non-null  object \n",
            " 1   Category        10840 non-null  object \n",
            " 2   Rating          9366 non-null   float64\n",
            " 3   Reviews         10840 non-null  float64\n",
            " 4   Size            10840 non-null  float64\n",
            " 5   Installs        10840 non-null  float64\n",
            " 6   Type            10839 non-null  object \n",
            " 7   Price           10840 non-null  float64\n",
            " 8   Content Rating  10840 non-null  object \n",
            " 9   Genres          10840 non-null  object \n",
            " 10  Last Updated    10840 non-null  object \n",
            " 11  Current Ver     10832 non-null  object \n",
            " 12  Android Ver     10838 non-null  object \n",
            "dtypes: float64(5), object(8)\n",
            "memory usage: 1.4+ MB\n"
          ]
        }
      ]
    },
    {
      "cell_type": "markdown",
      "source": [
        "** From above table, we can see that our requires data has been cleaned, converted to requires datatypes and now it is ready to perform different operations "
      ],
      "metadata": {
        "id": "t6PFsZGpBjEk"
      }
    },
    {
      "cell_type": "code",
      "source": [
        "# checking  for null values\n",
        "ps_df1.isna().sum()"
      ],
      "metadata": {
        "id": "IswLrNEL5yLI",
        "outputId": "f26f063a-8bbd-43c2-d428-80f32c821b38",
        "colab": {
          "base_uri": "https://localhost:8080/"
        }
      },
      "execution_count": 22,
      "outputs": [
        {
          "output_type": "execute_result",
          "data": {
            "text/plain": [
              "App                  0\n",
              "Category             0\n",
              "Rating            1474\n",
              "Reviews              0\n",
              "Size                 0\n",
              "Installs             0\n",
              "Type                 1\n",
              "Price                0\n",
              "Content Rating       0\n",
              "Genres               0\n",
              "Last Updated         0\n",
              "Current Ver          8\n",
              "Android Ver          2\n",
              "dtype: int64"
            ]
          },
          "metadata": {},
          "execution_count": 22
        }
      ]
    },
    {
      "cell_type": "markdown",
      "source": [
        "There are 1474 null values in Rating column, that is a significant amount of data. So, we will replace these null values with its Median"
      ],
      "metadata": {
        "id": "ZN1IVsNnCXvS"
      }
    },
    {
      "cell_type": "code",
      "source": [
        "# Code\n",
        "def replace_with_median(lsts): # function to replace the rows with null values with median values \n",
        "    return lsts.fillna(lsts.median()) # replacing null values woth median usinf fillna() and median() functions\n",
        "\n",
        "ps_df1['Rating'] = ps_df1['Rating'].transform(replace_with_median)\n",
        "ps_df1['Rating'] = ps_df1['Rating'].astype(float)"
      ],
      "metadata": {
        "id": "BJvNG6b75yIq"
      },
      "execution_count": 23,
      "outputs": []
    },
    {
      "cell_type": "code",
      "source": [
        "# removing  the record value where 'Type' is having null value since it is one column only. using drop() function\n",
        "index = ps_df1[ps_df1['Type'].isna()].index\n",
        "ps_df1.drop(axis=0, inplace=True, index=index)"
      ],
      "metadata": {
        "id": "ne95_k5j5yFX"
      },
      "execution_count": 24,
      "outputs": []
    },
    {
      "cell_type": "code",
      "source": [
        "# checking for null values\n",
        "ps_df1.isna().sum()"
      ],
      "metadata": {
        "id": "TOCxQSoM5yCV",
        "outputId": "4313aa0c-3f68-46c1-84f3-fbe5889225b5",
        "colab": {
          "base_uri": "https://localhost:8080/"
        }
      },
      "execution_count": 25,
      "outputs": [
        {
          "output_type": "execute_result",
          "data": {
            "text/plain": [
              "App               0\n",
              "Category          0\n",
              "Rating            0\n",
              "Reviews           0\n",
              "Size              0\n",
              "Installs          0\n",
              "Type              0\n",
              "Price             0\n",
              "Content Rating    0\n",
              "Genres            0\n",
              "Last Updated      0\n",
              "Current Ver       8\n",
              "Android Ver       2\n",
              "dtype: int64"
            ]
          },
          "metadata": {},
          "execution_count": 25
        }
      ]
    },
    {
      "cell_type": "markdown",
      "source": [
        "From above information, we can say that all the required null values has been handled."
      ],
      "metadata": {
        "id": "cIuq23_rD_Vf"
      }
    },
    {
      "cell_type": "markdown",
      "source": [
        "some more cleaning and dropping off duplicates values"
      ],
      "metadata": {
        "id": "9Wpnjd1SvOoi"
      }
    },
    {
      "cell_type": "code",
      "source": [
        "# grouping the data starting with App and Reviews\n",
        "ps_df1 = ps_df1.groupby(['App', 'Reviews', 'Category', 'Rating', 'Size', 'Installs', 'Type', 'Price', 'Content Rating', 'Genres', \n",
        "                           'Last Updated', 'Current Ver', 'Android Ver'], as_index=False)\n",
        "# reassign Installs values with their mean\n",
        "ps_df1 = ps_df1['Installs'].mean()\n",
        "# sort the dataframe by Reviews descendingly\n",
        "ps_df1.sort_values(by='Reviews', ascending=False, inplace=True)\n",
        "# drop duplicate rows based on App \n",
        "ps_df1.drop_duplicates(subset=['App'], inplace=True)\n",
        "ps_df1"
      ],
      "metadata": {
        "id": "BeJBXXgd5x_Q",
        "outputId": "09a858cf-aaa0-4547-9eda-ec16c0e2d4ad",
        "colab": {
          "base_uri": "https://localhost:8080/",
          "height": 659
        }
      },
      "execution_count": 26,
      "outputs": [
        {
          "output_type": "execute_result",
          "data": {
            "text/plain": [
              "                                             App     Reviews       Category  \\\n",
              "4534                                    Facebook  78158306.0         SOCIAL   \n",
              "9661                          WhatsApp Messenger  69119316.0  COMMUNICATION   \n",
              "5731                                   Instagram  66577446.0         SOCIAL   \n",
              "6546    Messenger – Text and Video Chat for Free  56646578.0  COMMUNICATION   \n",
              "2701                              Clash of Clans  44893888.0           GAME   \n",
              "...                                          ...         ...            ...   \n",
              "4372                      FG Autumn Photo Puzzle         0.0         FAMILY   \n",
              "4369  FE Other Disciplines Engineering Exam Prep         0.0         FAMILY   \n",
              "9033                             Thyroid Nodules         0.0        MEDICAL   \n",
              "185                            ACCEPT CE MARKING         0.0   PRODUCTIVITY   \n",
              "5862           K-App Mitarbeiter Galeria Kaufhof         0.0   PRODUCTIVITY   \n",
              "\n",
              "      Rating  Size  Type  Price Content Rating         Genres  \\\n",
              "4534     4.1   0.0  Free    0.0           Teen         Social   \n",
              "9661     4.4   0.0  Free    0.0       Everyone  Communication   \n",
              "5731     4.5   0.0  Free    0.0           Teen         Social   \n",
              "6546     4.0   0.0  Free    0.0       Everyone  Communication   \n",
              "2701     4.6  98.0  Free    0.0   Everyone 10+       Strategy   \n",
              "...      ...   ...   ...    ...            ...            ...   \n",
              "4372     4.3   4.6  Free    0.0       Everyone         Puzzle   \n",
              "4369     4.3  21.0  Free    0.0       Everyone      Education   \n",
              "9033     4.3  20.0  Free    0.0       Everyone        Medical   \n",
              "185      4.3  30.0  Free    0.0       Everyone   Productivity   \n",
              "5862     4.3  19.0  Free    0.0       Everyone   Productivity   \n",
              "\n",
              "         Last Updated         Current Ver         Android Ver      Installs  \n",
              "4534   August 3, 2018  Varies with device  Varies with device  1.000000e+09  \n",
              "9661   August 3, 2018  Varies with device  Varies with device  1.000000e+09  \n",
              "5731    July 31, 2018  Varies with device  Varies with device  1.000000e+09  \n",
              "6546   August 1, 2018  Varies with device  Varies with device  1.000000e+09  \n",
              "2701    July 15, 2018           10.322.16          4.1 and up  1.000000e+08  \n",
              "...               ...                 ...                 ...           ...  \n",
              "4372  August 23, 2017                 1.0          4.0 and up  1.000000e+01  \n",
              "4369    July 27, 2018           5.33.3669          5.0 and up  1.000000e+02  \n",
              "9033    July 14, 2018                 1.0          4.3 and up  1.000000e+01  \n",
              "185     June 28, 2018                 1.0          4.1 and up  1.000000e+01  \n",
              "5862    July 10, 2018              3.27.1          4.4 and up  1.000000e+02  \n",
              "\n",
              "[9648 rows x 13 columns]"
            ],
            "text/html": [
              "\n",
              "  <div id=\"df-4abe82de-079e-443a-b4b6-dc565d498ff9\">\n",
              "    <div class=\"colab-df-container\">\n",
              "      <div>\n",
              "<style scoped>\n",
              "    .dataframe tbody tr th:only-of-type {\n",
              "        vertical-align: middle;\n",
              "    }\n",
              "\n",
              "    .dataframe tbody tr th {\n",
              "        vertical-align: top;\n",
              "    }\n",
              "\n",
              "    .dataframe thead th {\n",
              "        text-align: right;\n",
              "    }\n",
              "</style>\n",
              "<table border=\"1\" class=\"dataframe\">\n",
              "  <thead>\n",
              "    <tr style=\"text-align: right;\">\n",
              "      <th></th>\n",
              "      <th>App</th>\n",
              "      <th>Reviews</th>\n",
              "      <th>Category</th>\n",
              "      <th>Rating</th>\n",
              "      <th>Size</th>\n",
              "      <th>Type</th>\n",
              "      <th>Price</th>\n",
              "      <th>Content Rating</th>\n",
              "      <th>Genres</th>\n",
              "      <th>Last Updated</th>\n",
              "      <th>Current Ver</th>\n",
              "      <th>Android Ver</th>\n",
              "      <th>Installs</th>\n",
              "    </tr>\n",
              "  </thead>\n",
              "  <tbody>\n",
              "    <tr>\n",
              "      <th>4534</th>\n",
              "      <td>Facebook</td>\n",
              "      <td>78158306.0</td>\n",
              "      <td>SOCIAL</td>\n",
              "      <td>4.1</td>\n",
              "      <td>0.0</td>\n",
              "      <td>Free</td>\n",
              "      <td>0.0</td>\n",
              "      <td>Teen</td>\n",
              "      <td>Social</td>\n",
              "      <td>August 3, 2018</td>\n",
              "      <td>Varies with device</td>\n",
              "      <td>Varies with device</td>\n",
              "      <td>1.000000e+09</td>\n",
              "    </tr>\n",
              "    <tr>\n",
              "      <th>9661</th>\n",
              "      <td>WhatsApp Messenger</td>\n",
              "      <td>69119316.0</td>\n",
              "      <td>COMMUNICATION</td>\n",
              "      <td>4.4</td>\n",
              "      <td>0.0</td>\n",
              "      <td>Free</td>\n",
              "      <td>0.0</td>\n",
              "      <td>Everyone</td>\n",
              "      <td>Communication</td>\n",
              "      <td>August 3, 2018</td>\n",
              "      <td>Varies with device</td>\n",
              "      <td>Varies with device</td>\n",
              "      <td>1.000000e+09</td>\n",
              "    </tr>\n",
              "    <tr>\n",
              "      <th>5731</th>\n",
              "      <td>Instagram</td>\n",
              "      <td>66577446.0</td>\n",
              "      <td>SOCIAL</td>\n",
              "      <td>4.5</td>\n",
              "      <td>0.0</td>\n",
              "      <td>Free</td>\n",
              "      <td>0.0</td>\n",
              "      <td>Teen</td>\n",
              "      <td>Social</td>\n",
              "      <td>July 31, 2018</td>\n",
              "      <td>Varies with device</td>\n",
              "      <td>Varies with device</td>\n",
              "      <td>1.000000e+09</td>\n",
              "    </tr>\n",
              "    <tr>\n",
              "      <th>6546</th>\n",
              "      <td>Messenger – Text and Video Chat for Free</td>\n",
              "      <td>56646578.0</td>\n",
              "      <td>COMMUNICATION</td>\n",
              "      <td>4.0</td>\n",
              "      <td>0.0</td>\n",
              "      <td>Free</td>\n",
              "      <td>0.0</td>\n",
              "      <td>Everyone</td>\n",
              "      <td>Communication</td>\n",
              "      <td>August 1, 2018</td>\n",
              "      <td>Varies with device</td>\n",
              "      <td>Varies with device</td>\n",
              "      <td>1.000000e+09</td>\n",
              "    </tr>\n",
              "    <tr>\n",
              "      <th>2701</th>\n",
              "      <td>Clash of Clans</td>\n",
              "      <td>44893888.0</td>\n",
              "      <td>GAME</td>\n",
              "      <td>4.6</td>\n",
              "      <td>98.0</td>\n",
              "      <td>Free</td>\n",
              "      <td>0.0</td>\n",
              "      <td>Everyone 10+</td>\n",
              "      <td>Strategy</td>\n",
              "      <td>July 15, 2018</td>\n",
              "      <td>10.322.16</td>\n",
              "      <td>4.1 and up</td>\n",
              "      <td>1.000000e+08</td>\n",
              "    </tr>\n",
              "    <tr>\n",
              "      <th>...</th>\n",
              "      <td>...</td>\n",
              "      <td>...</td>\n",
              "      <td>...</td>\n",
              "      <td>...</td>\n",
              "      <td>...</td>\n",
              "      <td>...</td>\n",
              "      <td>...</td>\n",
              "      <td>...</td>\n",
              "      <td>...</td>\n",
              "      <td>...</td>\n",
              "      <td>...</td>\n",
              "      <td>...</td>\n",
              "      <td>...</td>\n",
              "    </tr>\n",
              "    <tr>\n",
              "      <th>4372</th>\n",
              "      <td>FG Autumn Photo Puzzle</td>\n",
              "      <td>0.0</td>\n",
              "      <td>FAMILY</td>\n",
              "      <td>4.3</td>\n",
              "      <td>4.6</td>\n",
              "      <td>Free</td>\n",
              "      <td>0.0</td>\n",
              "      <td>Everyone</td>\n",
              "      <td>Puzzle</td>\n",
              "      <td>August 23, 2017</td>\n",
              "      <td>1.0</td>\n",
              "      <td>4.0 and up</td>\n",
              "      <td>1.000000e+01</td>\n",
              "    </tr>\n",
              "    <tr>\n",
              "      <th>4369</th>\n",
              "      <td>FE Other Disciplines Engineering Exam Prep</td>\n",
              "      <td>0.0</td>\n",
              "      <td>FAMILY</td>\n",
              "      <td>4.3</td>\n",
              "      <td>21.0</td>\n",
              "      <td>Free</td>\n",
              "      <td>0.0</td>\n",
              "      <td>Everyone</td>\n",
              "      <td>Education</td>\n",
              "      <td>July 27, 2018</td>\n",
              "      <td>5.33.3669</td>\n",
              "      <td>5.0 and up</td>\n",
              "      <td>1.000000e+02</td>\n",
              "    </tr>\n",
              "    <tr>\n",
              "      <th>9033</th>\n",
              "      <td>Thyroid Nodules</td>\n",
              "      <td>0.0</td>\n",
              "      <td>MEDICAL</td>\n",
              "      <td>4.3</td>\n",
              "      <td>20.0</td>\n",
              "      <td>Free</td>\n",
              "      <td>0.0</td>\n",
              "      <td>Everyone</td>\n",
              "      <td>Medical</td>\n",
              "      <td>July 14, 2018</td>\n",
              "      <td>1.0</td>\n",
              "      <td>4.3 and up</td>\n",
              "      <td>1.000000e+01</td>\n",
              "    </tr>\n",
              "    <tr>\n",
              "      <th>185</th>\n",
              "      <td>ACCEPT CE MARKING</td>\n",
              "      <td>0.0</td>\n",
              "      <td>PRODUCTIVITY</td>\n",
              "      <td>4.3</td>\n",
              "      <td>30.0</td>\n",
              "      <td>Free</td>\n",
              "      <td>0.0</td>\n",
              "      <td>Everyone</td>\n",
              "      <td>Productivity</td>\n",
              "      <td>June 28, 2018</td>\n",
              "      <td>1.0</td>\n",
              "      <td>4.1 and up</td>\n",
              "      <td>1.000000e+01</td>\n",
              "    </tr>\n",
              "    <tr>\n",
              "      <th>5862</th>\n",
              "      <td>K-App Mitarbeiter Galeria Kaufhof</td>\n",
              "      <td>0.0</td>\n",
              "      <td>PRODUCTIVITY</td>\n",
              "      <td>4.3</td>\n",
              "      <td>19.0</td>\n",
              "      <td>Free</td>\n",
              "      <td>0.0</td>\n",
              "      <td>Everyone</td>\n",
              "      <td>Productivity</td>\n",
              "      <td>July 10, 2018</td>\n",
              "      <td>3.27.1</td>\n",
              "      <td>4.4 and up</td>\n",
              "      <td>1.000000e+02</td>\n",
              "    </tr>\n",
              "  </tbody>\n",
              "</table>\n",
              "<p>9648 rows × 13 columns</p>\n",
              "</div>\n",
              "      <button class=\"colab-df-convert\" onclick=\"convertToInteractive('df-4abe82de-079e-443a-b4b6-dc565d498ff9')\"\n",
              "              title=\"Convert this dataframe to an interactive table.\"\n",
              "              style=\"display:none;\">\n",
              "        \n",
              "  <svg xmlns=\"http://www.w3.org/2000/svg\" height=\"24px\"viewBox=\"0 0 24 24\"\n",
              "       width=\"24px\">\n",
              "    <path d=\"M0 0h24v24H0V0z\" fill=\"none\"/>\n",
              "    <path d=\"M18.56 5.44l.94 2.06.94-2.06 2.06-.94-2.06-.94-.94-2.06-.94 2.06-2.06.94zm-11 1L8.5 8.5l.94-2.06 2.06-.94-2.06-.94L8.5 2.5l-.94 2.06-2.06.94zm10 10l.94 2.06.94-2.06 2.06-.94-2.06-.94-.94-2.06-.94 2.06-2.06.94z\"/><path d=\"M17.41 7.96l-1.37-1.37c-.4-.4-.92-.59-1.43-.59-.52 0-1.04.2-1.43.59L10.3 9.45l-7.72 7.72c-.78.78-.78 2.05 0 2.83L4 21.41c.39.39.9.59 1.41.59.51 0 1.02-.2 1.41-.59l7.78-7.78 2.81-2.81c.8-.78.8-2.07 0-2.86zM5.41 20L4 18.59l7.72-7.72 1.47 1.35L5.41 20z\"/>\n",
              "  </svg>\n",
              "      </button>\n",
              "      \n",
              "  <style>\n",
              "    .colab-df-container {\n",
              "      display:flex;\n",
              "      flex-wrap:wrap;\n",
              "      gap: 12px;\n",
              "    }\n",
              "\n",
              "    .colab-df-convert {\n",
              "      background-color: #E8F0FE;\n",
              "      border: none;\n",
              "      border-radius: 50%;\n",
              "      cursor: pointer;\n",
              "      display: none;\n",
              "      fill: #1967D2;\n",
              "      height: 32px;\n",
              "      padding: 0 0 0 0;\n",
              "      width: 32px;\n",
              "    }\n",
              "\n",
              "    .colab-df-convert:hover {\n",
              "      background-color: #E2EBFA;\n",
              "      box-shadow: 0px 1px 2px rgba(60, 64, 67, 0.3), 0px 1px 3px 1px rgba(60, 64, 67, 0.15);\n",
              "      fill: #174EA6;\n",
              "    }\n",
              "\n",
              "    [theme=dark] .colab-df-convert {\n",
              "      background-color: #3B4455;\n",
              "      fill: #D2E3FC;\n",
              "    }\n",
              "\n",
              "    [theme=dark] .colab-df-convert:hover {\n",
              "      background-color: #434B5C;\n",
              "      box-shadow: 0px 1px 3px 1px rgba(0, 0, 0, 0.15);\n",
              "      filter: drop-shadow(0px 1px 2px rgba(0, 0, 0, 0.3));\n",
              "      fill: #FFFFFF;\n",
              "    }\n",
              "  </style>\n",
              "\n",
              "      <script>\n",
              "        const buttonEl =\n",
              "          document.querySelector('#df-4abe82de-079e-443a-b4b6-dc565d498ff9 button.colab-df-convert');\n",
              "        buttonEl.style.display =\n",
              "          google.colab.kernel.accessAllowed ? 'block' : 'none';\n",
              "\n",
              "        async function convertToInteractive(key) {\n",
              "          const element = document.querySelector('#df-4abe82de-079e-443a-b4b6-dc565d498ff9');\n",
              "          const dataTable =\n",
              "            await google.colab.kernel.invokeFunction('convertToInteractive',\n",
              "                                                     [key], {});\n",
              "          if (!dataTable) return;\n",
              "\n",
              "          const docLinkHtml = 'Like what you see? Visit the ' +\n",
              "            '<a target=\"_blank\" href=https://colab.research.google.com/notebooks/data_table.ipynb>data table notebook</a>'\n",
              "            + ' to learn more about interactive tables.';\n",
              "          element.innerHTML = '';\n",
              "          dataTable['output_type'] = 'display_data';\n",
              "          await google.colab.output.renderOutput(dataTable, element);\n",
              "          const docLink = document.createElement('div');\n",
              "          docLink.innerHTML = docLinkHtml;\n",
              "          element.appendChild(docLink);\n",
              "        }\n",
              "      </script>\n",
              "    </div>\n",
              "  </div>\n",
              "  "
            ]
          },
          "metadata": {},
          "execution_count": 26
        }
      ]
    },
    {
      "cell_type": "code",
      "source": [
        "# check on statistical information of the dataframe\n",
        "ps_df1.describe()"
      ],
      "metadata": {
        "id": "nJm7WrwdQ770",
        "outputId": "b5ddbb95-71f0-4499-bc78-ad7aaf4b511e",
        "colab": {
          "base_uri": "https://localhost:8080/",
          "height": 300
        }
      },
      "execution_count": 27,
      "outputs": [
        {
          "output_type": "execute_result",
          "data": {
            "text/plain": [
              "            Reviews       Rating         Size        Price      Installs\n",
              "count  9.648000e+03  9648.000000  9648.000000  9648.000000  9.648000e+03\n",
              "mean   2.170487e+05     4.192485    17.820208     1.098122  7.806898e+06\n",
              "std    1.832460e+06     0.496210    21.503151    16.861193  5.379975e+07\n",
              "min    0.000000e+00     1.000000     0.000000     0.000000  0.000000e+00\n",
              "25%    2.500000e+01     4.000000     2.900000     0.000000  1.000000e+03\n",
              "50%    9.745000e+02     4.300000     9.200000     0.000000  1.000000e+05\n",
              "75%    2.949750e+04     4.500000    25.000000     0.000000  1.000000e+06\n",
              "max    7.815831e+07     5.000000   100.000000   400.000000  1.000000e+09"
            ],
            "text/html": [
              "\n",
              "  <div id=\"df-3f9b68ad-60cc-48b9-96e1-9a29b9bc9de4\">\n",
              "    <div class=\"colab-df-container\">\n",
              "      <div>\n",
              "<style scoped>\n",
              "    .dataframe tbody tr th:only-of-type {\n",
              "        vertical-align: middle;\n",
              "    }\n",
              "\n",
              "    .dataframe tbody tr th {\n",
              "        vertical-align: top;\n",
              "    }\n",
              "\n",
              "    .dataframe thead th {\n",
              "        text-align: right;\n",
              "    }\n",
              "</style>\n",
              "<table border=\"1\" class=\"dataframe\">\n",
              "  <thead>\n",
              "    <tr style=\"text-align: right;\">\n",
              "      <th></th>\n",
              "      <th>Reviews</th>\n",
              "      <th>Rating</th>\n",
              "      <th>Size</th>\n",
              "      <th>Price</th>\n",
              "      <th>Installs</th>\n",
              "    </tr>\n",
              "  </thead>\n",
              "  <tbody>\n",
              "    <tr>\n",
              "      <th>count</th>\n",
              "      <td>9.648000e+03</td>\n",
              "      <td>9648.000000</td>\n",
              "      <td>9648.000000</td>\n",
              "      <td>9648.000000</td>\n",
              "      <td>9.648000e+03</td>\n",
              "    </tr>\n",
              "    <tr>\n",
              "      <th>mean</th>\n",
              "      <td>2.170487e+05</td>\n",
              "      <td>4.192485</td>\n",
              "      <td>17.820208</td>\n",
              "      <td>1.098122</td>\n",
              "      <td>7.806898e+06</td>\n",
              "    </tr>\n",
              "    <tr>\n",
              "      <th>std</th>\n",
              "      <td>1.832460e+06</td>\n",
              "      <td>0.496210</td>\n",
              "      <td>21.503151</td>\n",
              "      <td>16.861193</td>\n",
              "      <td>5.379975e+07</td>\n",
              "    </tr>\n",
              "    <tr>\n",
              "      <th>min</th>\n",
              "      <td>0.000000e+00</td>\n",
              "      <td>1.000000</td>\n",
              "      <td>0.000000</td>\n",
              "      <td>0.000000</td>\n",
              "      <td>0.000000e+00</td>\n",
              "    </tr>\n",
              "    <tr>\n",
              "      <th>25%</th>\n",
              "      <td>2.500000e+01</td>\n",
              "      <td>4.000000</td>\n",
              "      <td>2.900000</td>\n",
              "      <td>0.000000</td>\n",
              "      <td>1.000000e+03</td>\n",
              "    </tr>\n",
              "    <tr>\n",
              "      <th>50%</th>\n",
              "      <td>9.745000e+02</td>\n",
              "      <td>4.300000</td>\n",
              "      <td>9.200000</td>\n",
              "      <td>0.000000</td>\n",
              "      <td>1.000000e+05</td>\n",
              "    </tr>\n",
              "    <tr>\n",
              "      <th>75%</th>\n",
              "      <td>2.949750e+04</td>\n",
              "      <td>4.500000</td>\n",
              "      <td>25.000000</td>\n",
              "      <td>0.000000</td>\n",
              "      <td>1.000000e+06</td>\n",
              "    </tr>\n",
              "    <tr>\n",
              "      <th>max</th>\n",
              "      <td>7.815831e+07</td>\n",
              "      <td>5.000000</td>\n",
              "      <td>100.000000</td>\n",
              "      <td>400.000000</td>\n",
              "      <td>1.000000e+09</td>\n",
              "    </tr>\n",
              "  </tbody>\n",
              "</table>\n",
              "</div>\n",
              "      <button class=\"colab-df-convert\" onclick=\"convertToInteractive('df-3f9b68ad-60cc-48b9-96e1-9a29b9bc9de4')\"\n",
              "              title=\"Convert this dataframe to an interactive table.\"\n",
              "              style=\"display:none;\">\n",
              "        \n",
              "  <svg xmlns=\"http://www.w3.org/2000/svg\" height=\"24px\"viewBox=\"0 0 24 24\"\n",
              "       width=\"24px\">\n",
              "    <path d=\"M0 0h24v24H0V0z\" fill=\"none\"/>\n",
              "    <path d=\"M18.56 5.44l.94 2.06.94-2.06 2.06-.94-2.06-.94-.94-2.06-.94 2.06-2.06.94zm-11 1L8.5 8.5l.94-2.06 2.06-.94-2.06-.94L8.5 2.5l-.94 2.06-2.06.94zm10 10l.94 2.06.94-2.06 2.06-.94-2.06-.94-.94-2.06-.94 2.06-2.06.94z\"/><path d=\"M17.41 7.96l-1.37-1.37c-.4-.4-.92-.59-1.43-.59-.52 0-1.04.2-1.43.59L10.3 9.45l-7.72 7.72c-.78.78-.78 2.05 0 2.83L4 21.41c.39.39.9.59 1.41.59.51 0 1.02-.2 1.41-.59l7.78-7.78 2.81-2.81c.8-.78.8-2.07 0-2.86zM5.41 20L4 18.59l7.72-7.72 1.47 1.35L5.41 20z\"/>\n",
              "  </svg>\n",
              "      </button>\n",
              "      \n",
              "  <style>\n",
              "    .colab-df-container {\n",
              "      display:flex;\n",
              "      flex-wrap:wrap;\n",
              "      gap: 12px;\n",
              "    }\n",
              "\n",
              "    .colab-df-convert {\n",
              "      background-color: #E8F0FE;\n",
              "      border: none;\n",
              "      border-radius: 50%;\n",
              "      cursor: pointer;\n",
              "      display: none;\n",
              "      fill: #1967D2;\n",
              "      height: 32px;\n",
              "      padding: 0 0 0 0;\n",
              "      width: 32px;\n",
              "    }\n",
              "\n",
              "    .colab-df-convert:hover {\n",
              "      background-color: #E2EBFA;\n",
              "      box-shadow: 0px 1px 2px rgba(60, 64, 67, 0.3), 0px 1px 3px 1px rgba(60, 64, 67, 0.15);\n",
              "      fill: #174EA6;\n",
              "    }\n",
              "\n",
              "    [theme=dark] .colab-df-convert {\n",
              "      background-color: #3B4455;\n",
              "      fill: #D2E3FC;\n",
              "    }\n",
              "\n",
              "    [theme=dark] .colab-df-convert:hover {\n",
              "      background-color: #434B5C;\n",
              "      box-shadow: 0px 1px 3px 1px rgba(0, 0, 0, 0.15);\n",
              "      filter: drop-shadow(0px 1px 2px rgba(0, 0, 0, 0.3));\n",
              "      fill: #FFFFFF;\n",
              "    }\n",
              "  </style>\n",
              "\n",
              "      <script>\n",
              "        const buttonEl =\n",
              "          document.querySelector('#df-3f9b68ad-60cc-48b9-96e1-9a29b9bc9de4 button.colab-df-convert');\n",
              "        buttonEl.style.display =\n",
              "          google.colab.kernel.accessAllowed ? 'block' : 'none';\n",
              "\n",
              "        async function convertToInteractive(key) {\n",
              "          const element = document.querySelector('#df-3f9b68ad-60cc-48b9-96e1-9a29b9bc9de4');\n",
              "          const dataTable =\n",
              "            await google.colab.kernel.invokeFunction('convertToInteractive',\n",
              "                                                     [key], {});\n",
              "          if (!dataTable) return;\n",
              "\n",
              "          const docLinkHtml = 'Like what you see? Visit the ' +\n",
              "            '<a target=\"_blank\" href=https://colab.research.google.com/notebooks/data_table.ipynb>data table notebook</a>'\n",
              "            + ' to learn more about interactive tables.';\n",
              "          element.innerHTML = '';\n",
              "          dataTable['output_type'] = 'display_data';\n",
              "          await google.colab.output.renderOutput(dataTable, element);\n",
              "          const docLink = document.createElement('div');\n",
              "          docLink.innerHTML = docLinkHtml;\n",
              "          element.appendChild(docLink);\n",
              "        }\n",
              "      </script>\n",
              "    </div>\n",
              "  </div>\n",
              "  "
            ]
          },
          "metadata": {},
          "execution_count": 27
        }
      ]
    },
    {
      "cell_type": "markdown",
      "source": [
        "The above data is cleaned upto an extent and ready for EDA.\n",
        "\n",
        "---\n",
        "\n",
        "\n",
        "\n",
        "---\n",
        "\n",
        "\n",
        "\n",
        "---\n",
        "\n",
        "\n"
      ],
      "metadata": {
        "id": "puwF4ECXvaKc"
      }
    },
    {
      "cell_type": "markdown",
      "source": [
        "#**Exploratory Data Analysis and Visualization**"
      ],
      "metadata": {
        "id": "yveStvxFvpki"
      }
    },
    {
      "cell_type": "markdown",
      "source": [
        "# 1. Which are the top 5 apps installed by the user?"
      ],
      "metadata": {
        "id": "MQg-hWZNRR9w"
      }
    },
    {
      "cell_type": "code",
      "source": [
        "# sorting 'Installs' values in descending order\n",
        "top_5_apps = ps_df1.sort_values(by=['Installs'], ascending=False,)\n",
        "top_5_apps.head(5)"
      ],
      "metadata": {
        "id": "f2Lcp0FaQ74d",
        "outputId": "9cff735e-a7b4-45b4-9b77-6ee2d329eb78",
        "colab": {
          "base_uri": "https://localhost:8080/",
          "height": 354
        }
      },
      "execution_count": 28,
      "outputs": [
        {
          "output_type": "execute_result",
          "data": {
            "text/plain": [
              "                     App     Reviews          Category  Rating  Size  Type  \\\n",
              "4534            Facebook  78158306.0            SOCIAL     4.1   0.0  Free   \n",
              "5211       Google Photos  10859051.0       PHOTOGRAPHY     4.5   0.0  Free   \n",
              "5229             Google+   4831125.0            SOCIAL     4.2   0.0  Free   \n",
              "5122               Gmail   4604483.0     COMMUNICATION     4.3   0.0  Free   \n",
              "5221  Google Street View   2129707.0  TRAVEL_AND_LOCAL     4.2   0.0  Free   \n",
              "\n",
              "      Price Content Rating          Genres    Last Updated  \\\n",
              "4534    0.0           Teen          Social  August 3, 2018   \n",
              "5211    0.0       Everyone     Photography  August 6, 2018   \n",
              "5229    0.0           Teen          Social   July 26, 2018   \n",
              "5122    0.0       Everyone   Communication  August 2, 2018   \n",
              "5221    0.0       Everyone  Travel & Local  August 6, 2018   \n",
              "\n",
              "             Current Ver         Android Ver      Installs  \n",
              "4534  Varies with device  Varies with device  1.000000e+09  \n",
              "5211  Varies with device  Varies with device  1.000000e+09  \n",
              "5229  Varies with device  Varies with device  1.000000e+09  \n",
              "5122  Varies with device  Varies with device  1.000000e+09  \n",
              "5221  Varies with device  Varies with device  1.000000e+09  "
            ],
            "text/html": [
              "\n",
              "  <div id=\"df-977a6f34-de85-4c4c-89ca-f43f75e97ed9\">\n",
              "    <div class=\"colab-df-container\">\n",
              "      <div>\n",
              "<style scoped>\n",
              "    .dataframe tbody tr th:only-of-type {\n",
              "        vertical-align: middle;\n",
              "    }\n",
              "\n",
              "    .dataframe tbody tr th {\n",
              "        vertical-align: top;\n",
              "    }\n",
              "\n",
              "    .dataframe thead th {\n",
              "        text-align: right;\n",
              "    }\n",
              "</style>\n",
              "<table border=\"1\" class=\"dataframe\">\n",
              "  <thead>\n",
              "    <tr style=\"text-align: right;\">\n",
              "      <th></th>\n",
              "      <th>App</th>\n",
              "      <th>Reviews</th>\n",
              "      <th>Category</th>\n",
              "      <th>Rating</th>\n",
              "      <th>Size</th>\n",
              "      <th>Type</th>\n",
              "      <th>Price</th>\n",
              "      <th>Content Rating</th>\n",
              "      <th>Genres</th>\n",
              "      <th>Last Updated</th>\n",
              "      <th>Current Ver</th>\n",
              "      <th>Android Ver</th>\n",
              "      <th>Installs</th>\n",
              "    </tr>\n",
              "  </thead>\n",
              "  <tbody>\n",
              "    <tr>\n",
              "      <th>4534</th>\n",
              "      <td>Facebook</td>\n",
              "      <td>78158306.0</td>\n",
              "      <td>SOCIAL</td>\n",
              "      <td>4.1</td>\n",
              "      <td>0.0</td>\n",
              "      <td>Free</td>\n",
              "      <td>0.0</td>\n",
              "      <td>Teen</td>\n",
              "      <td>Social</td>\n",
              "      <td>August 3, 2018</td>\n",
              "      <td>Varies with device</td>\n",
              "      <td>Varies with device</td>\n",
              "      <td>1.000000e+09</td>\n",
              "    </tr>\n",
              "    <tr>\n",
              "      <th>5211</th>\n",
              "      <td>Google Photos</td>\n",
              "      <td>10859051.0</td>\n",
              "      <td>PHOTOGRAPHY</td>\n",
              "      <td>4.5</td>\n",
              "      <td>0.0</td>\n",
              "      <td>Free</td>\n",
              "      <td>0.0</td>\n",
              "      <td>Everyone</td>\n",
              "      <td>Photography</td>\n",
              "      <td>August 6, 2018</td>\n",
              "      <td>Varies with device</td>\n",
              "      <td>Varies with device</td>\n",
              "      <td>1.000000e+09</td>\n",
              "    </tr>\n",
              "    <tr>\n",
              "      <th>5229</th>\n",
              "      <td>Google+</td>\n",
              "      <td>4831125.0</td>\n",
              "      <td>SOCIAL</td>\n",
              "      <td>4.2</td>\n",
              "      <td>0.0</td>\n",
              "      <td>Free</td>\n",
              "      <td>0.0</td>\n",
              "      <td>Teen</td>\n",
              "      <td>Social</td>\n",
              "      <td>July 26, 2018</td>\n",
              "      <td>Varies with device</td>\n",
              "      <td>Varies with device</td>\n",
              "      <td>1.000000e+09</td>\n",
              "    </tr>\n",
              "    <tr>\n",
              "      <th>5122</th>\n",
              "      <td>Gmail</td>\n",
              "      <td>4604483.0</td>\n",
              "      <td>COMMUNICATION</td>\n",
              "      <td>4.3</td>\n",
              "      <td>0.0</td>\n",
              "      <td>Free</td>\n",
              "      <td>0.0</td>\n",
              "      <td>Everyone</td>\n",
              "      <td>Communication</td>\n",
              "      <td>August 2, 2018</td>\n",
              "      <td>Varies with device</td>\n",
              "      <td>Varies with device</td>\n",
              "      <td>1.000000e+09</td>\n",
              "    </tr>\n",
              "    <tr>\n",
              "      <th>5221</th>\n",
              "      <td>Google Street View</td>\n",
              "      <td>2129707.0</td>\n",
              "      <td>TRAVEL_AND_LOCAL</td>\n",
              "      <td>4.2</td>\n",
              "      <td>0.0</td>\n",
              "      <td>Free</td>\n",
              "      <td>0.0</td>\n",
              "      <td>Everyone</td>\n",
              "      <td>Travel &amp; Local</td>\n",
              "      <td>August 6, 2018</td>\n",
              "      <td>Varies with device</td>\n",
              "      <td>Varies with device</td>\n",
              "      <td>1.000000e+09</td>\n",
              "    </tr>\n",
              "  </tbody>\n",
              "</table>\n",
              "</div>\n",
              "      <button class=\"colab-df-convert\" onclick=\"convertToInteractive('df-977a6f34-de85-4c4c-89ca-f43f75e97ed9')\"\n",
              "              title=\"Convert this dataframe to an interactive table.\"\n",
              "              style=\"display:none;\">\n",
              "        \n",
              "  <svg xmlns=\"http://www.w3.org/2000/svg\" height=\"24px\"viewBox=\"0 0 24 24\"\n",
              "       width=\"24px\">\n",
              "    <path d=\"M0 0h24v24H0V0z\" fill=\"none\"/>\n",
              "    <path d=\"M18.56 5.44l.94 2.06.94-2.06 2.06-.94-2.06-.94-.94-2.06-.94 2.06-2.06.94zm-11 1L8.5 8.5l.94-2.06 2.06-.94-2.06-.94L8.5 2.5l-.94 2.06-2.06.94zm10 10l.94 2.06.94-2.06 2.06-.94-2.06-.94-.94-2.06-.94 2.06-2.06.94z\"/><path d=\"M17.41 7.96l-1.37-1.37c-.4-.4-.92-.59-1.43-.59-.52 0-1.04.2-1.43.59L10.3 9.45l-7.72 7.72c-.78.78-.78 2.05 0 2.83L4 21.41c.39.39.9.59 1.41.59.51 0 1.02-.2 1.41-.59l7.78-7.78 2.81-2.81c.8-.78.8-2.07 0-2.86zM5.41 20L4 18.59l7.72-7.72 1.47 1.35L5.41 20z\"/>\n",
              "  </svg>\n",
              "      </button>\n",
              "      \n",
              "  <style>\n",
              "    .colab-df-container {\n",
              "      display:flex;\n",
              "      flex-wrap:wrap;\n",
              "      gap: 12px;\n",
              "    }\n",
              "\n",
              "    .colab-df-convert {\n",
              "      background-color: #E8F0FE;\n",
              "      border: none;\n",
              "      border-radius: 50%;\n",
              "      cursor: pointer;\n",
              "      display: none;\n",
              "      fill: #1967D2;\n",
              "      height: 32px;\n",
              "      padding: 0 0 0 0;\n",
              "      width: 32px;\n",
              "    }\n",
              "\n",
              "    .colab-df-convert:hover {\n",
              "      background-color: #E2EBFA;\n",
              "      box-shadow: 0px 1px 2px rgba(60, 64, 67, 0.3), 0px 1px 3px 1px rgba(60, 64, 67, 0.15);\n",
              "      fill: #174EA6;\n",
              "    }\n",
              "\n",
              "    [theme=dark] .colab-df-convert {\n",
              "      background-color: #3B4455;\n",
              "      fill: #D2E3FC;\n",
              "    }\n",
              "\n",
              "    [theme=dark] .colab-df-convert:hover {\n",
              "      background-color: #434B5C;\n",
              "      box-shadow: 0px 1px 3px 1px rgba(0, 0, 0, 0.15);\n",
              "      filter: drop-shadow(0px 1px 2px rgba(0, 0, 0, 0.3));\n",
              "      fill: #FFFFFF;\n",
              "    }\n",
              "  </style>\n",
              "\n",
              "      <script>\n",
              "        const buttonEl =\n",
              "          document.querySelector('#df-977a6f34-de85-4c4c-89ca-f43f75e97ed9 button.colab-df-convert');\n",
              "        buttonEl.style.display =\n",
              "          google.colab.kernel.accessAllowed ? 'block' : 'none';\n",
              "\n",
              "        async function convertToInteractive(key) {\n",
              "          const element = document.querySelector('#df-977a6f34-de85-4c4c-89ca-f43f75e97ed9');\n",
              "          const dataTable =\n",
              "            await google.colab.kernel.invokeFunction('convertToInteractive',\n",
              "                                                     [key], {});\n",
              "          if (!dataTable) return;\n",
              "\n",
              "          const docLinkHtml = 'Like what you see? Visit the ' +\n",
              "            '<a target=\"_blank\" href=https://colab.research.google.com/notebooks/data_table.ipynb>data table notebook</a>'\n",
              "            + ' to learn more about interactive tables.';\n",
              "          element.innerHTML = '';\n",
              "          dataTable['output_type'] = 'display_data';\n",
              "          await google.colab.output.renderOutput(dataTable, element);\n",
              "          const docLink = document.createElement('div');\n",
              "          docLink.innerHTML = docLinkHtml;\n",
              "          element.appendChild(docLink);\n",
              "        }\n",
              "      </script>\n",
              "    </div>\n",
              "  </div>\n",
              "  "
            ]
          },
          "metadata": {},
          "execution_count": 28
        }
      ]
    },
    {
      "cell_type": "code",
      "source": [
        "print(f'The the top 5 apps installed by the user are: {\", \".join(ps_df1[\"App\"].head(5))}')"
      ],
      "metadata": {
        "id": "-XHsAlsSQ702",
        "outputId": "4e840250-e14b-4159-a90b-63ce6c9dfeab",
        "colab": {
          "base_uri": "https://localhost:8080/"
        }
      },
      "execution_count": 30,
      "outputs": [
        {
          "output_type": "stream",
          "name": "stdout",
          "text": [
            "The the top 5 apps installed by the user are: Facebook, WhatsApp Messenger, Instagram, Messenger – Text and Video Chat for Free, Clash of Clans\n"
          ]
        }
      ]
    },
    {
      "cell_type": "markdown",
      "source": [
        "# 2. Which are the top 5 apps most reviewed by the users ?"
      ],
      "metadata": {
        "id": "4T59tDk5wxEP"
      }
    },
    {
      "cell_type": "code",
      "source": [
        "#  grouping app data on the basis of App, Category, Rating using group by functions and addind their reviews using sum() function \n",
        "df = ps_df1.groupby(by=['App', 'Category', 'Rating'])[['Reviews']].sum().reset_index() \n",
        "df = df.sort_values(by=['Reviews'], ascending=False) # sorting 'Reviews' values in descending order\n",
        "df.head(5)"
      ],
      "metadata": {
        "id": "s0A6I3LSQ7we",
        "colab": {
          "base_uri": "https://localhost:8080/",
          "height": 206
        },
        "outputId": "430d2ced-7eea-4d0e-a5a0-7ea320aea2db"
      },
      "execution_count": 29,
      "outputs": [
        {
          "output_type": "execute_result",
          "data": {
            "text/plain": [
              "                                           App       Category  Rating  \\\n",
              "4324                                  Facebook         SOCIAL     4.1   \n",
              "9031                        WhatsApp Messenger  COMMUNICATION     4.4   \n",
              "5395                                 Instagram         SOCIAL     4.5   \n",
              "6158  Messenger – Text and Video Chat for Free  COMMUNICATION     4.0   \n",
              "2562                            Clash of Clans           GAME     4.6   \n",
              "\n",
              "         Reviews  \n",
              "4324  78158306.0  \n",
              "9031  69119316.0  \n",
              "5395  66577446.0  \n",
              "6158  56646578.0  \n",
              "2562  44893888.0  "
            ],
            "text/html": [
              "\n",
              "  <div id=\"df-26af1641-29dd-4d01-846a-4db398e04d14\">\n",
              "    <div class=\"colab-df-container\">\n",
              "      <div>\n",
              "<style scoped>\n",
              "    .dataframe tbody tr th:only-of-type {\n",
              "        vertical-align: middle;\n",
              "    }\n",
              "\n",
              "    .dataframe tbody tr th {\n",
              "        vertical-align: top;\n",
              "    }\n",
              "\n",
              "    .dataframe thead th {\n",
              "        text-align: right;\n",
              "    }\n",
              "</style>\n",
              "<table border=\"1\" class=\"dataframe\">\n",
              "  <thead>\n",
              "    <tr style=\"text-align: right;\">\n",
              "      <th></th>\n",
              "      <th>App</th>\n",
              "      <th>Category</th>\n",
              "      <th>Rating</th>\n",
              "      <th>Reviews</th>\n",
              "    </tr>\n",
              "  </thead>\n",
              "  <tbody>\n",
              "    <tr>\n",
              "      <th>4324</th>\n",
              "      <td>Facebook</td>\n",
              "      <td>SOCIAL</td>\n",
              "      <td>4.1</td>\n",
              "      <td>78158306.0</td>\n",
              "    </tr>\n",
              "    <tr>\n",
              "      <th>9031</th>\n",
              "      <td>WhatsApp Messenger</td>\n",
              "      <td>COMMUNICATION</td>\n",
              "      <td>4.4</td>\n",
              "      <td>69119316.0</td>\n",
              "    </tr>\n",
              "    <tr>\n",
              "      <th>5395</th>\n",
              "      <td>Instagram</td>\n",
              "      <td>SOCIAL</td>\n",
              "      <td>4.5</td>\n",
              "      <td>66577446.0</td>\n",
              "    </tr>\n",
              "    <tr>\n",
              "      <th>6158</th>\n",
              "      <td>Messenger – Text and Video Chat for Free</td>\n",
              "      <td>COMMUNICATION</td>\n",
              "      <td>4.0</td>\n",
              "      <td>56646578.0</td>\n",
              "    </tr>\n",
              "    <tr>\n",
              "      <th>2562</th>\n",
              "      <td>Clash of Clans</td>\n",
              "      <td>GAME</td>\n",
              "      <td>4.6</td>\n",
              "      <td>44893888.0</td>\n",
              "    </tr>\n",
              "  </tbody>\n",
              "</table>\n",
              "</div>\n",
              "      <button class=\"colab-df-convert\" onclick=\"convertToInteractive('df-26af1641-29dd-4d01-846a-4db398e04d14')\"\n",
              "              title=\"Convert this dataframe to an interactive table.\"\n",
              "              style=\"display:none;\">\n",
              "        \n",
              "  <svg xmlns=\"http://www.w3.org/2000/svg\" height=\"24px\"viewBox=\"0 0 24 24\"\n",
              "       width=\"24px\">\n",
              "    <path d=\"M0 0h24v24H0V0z\" fill=\"none\"/>\n",
              "    <path d=\"M18.56 5.44l.94 2.06.94-2.06 2.06-.94-2.06-.94-.94-2.06-.94 2.06-2.06.94zm-11 1L8.5 8.5l.94-2.06 2.06-.94-2.06-.94L8.5 2.5l-.94 2.06-2.06.94zm10 10l.94 2.06.94-2.06 2.06-.94-2.06-.94-.94-2.06-.94 2.06-2.06.94z\"/><path d=\"M17.41 7.96l-1.37-1.37c-.4-.4-.92-.59-1.43-.59-.52 0-1.04.2-1.43.59L10.3 9.45l-7.72 7.72c-.78.78-.78 2.05 0 2.83L4 21.41c.39.39.9.59 1.41.59.51 0 1.02-.2 1.41-.59l7.78-7.78 2.81-2.81c.8-.78.8-2.07 0-2.86zM5.41 20L4 18.59l7.72-7.72 1.47 1.35L5.41 20z\"/>\n",
              "  </svg>\n",
              "      </button>\n",
              "      \n",
              "  <style>\n",
              "    .colab-df-container {\n",
              "      display:flex;\n",
              "      flex-wrap:wrap;\n",
              "      gap: 12px;\n",
              "    }\n",
              "\n",
              "    .colab-df-convert {\n",
              "      background-color: #E8F0FE;\n",
              "      border: none;\n",
              "      border-radius: 50%;\n",
              "      cursor: pointer;\n",
              "      display: none;\n",
              "      fill: #1967D2;\n",
              "      height: 32px;\n",
              "      padding: 0 0 0 0;\n",
              "      width: 32px;\n",
              "    }\n",
              "\n",
              "    .colab-df-convert:hover {\n",
              "      background-color: #E2EBFA;\n",
              "      box-shadow: 0px 1px 2px rgba(60, 64, 67, 0.3), 0px 1px 3px 1px rgba(60, 64, 67, 0.15);\n",
              "      fill: #174EA6;\n",
              "    }\n",
              "\n",
              "    [theme=dark] .colab-df-convert {\n",
              "      background-color: #3B4455;\n",
              "      fill: #D2E3FC;\n",
              "    }\n",
              "\n",
              "    [theme=dark] .colab-df-convert:hover {\n",
              "      background-color: #434B5C;\n",
              "      box-shadow: 0px 1px 3px 1px rgba(0, 0, 0, 0.15);\n",
              "      filter: drop-shadow(0px 1px 2px rgba(0, 0, 0, 0.3));\n",
              "      fill: #FFFFFF;\n",
              "    }\n",
              "  </style>\n",
              "\n",
              "      <script>\n",
              "        const buttonEl =\n",
              "          document.querySelector('#df-26af1641-29dd-4d01-846a-4db398e04d14 button.colab-df-convert');\n",
              "        buttonEl.style.display =\n",
              "          google.colab.kernel.accessAllowed ? 'block' : 'none';\n",
              "\n",
              "        async function convertToInteractive(key) {\n",
              "          const element = document.querySelector('#df-26af1641-29dd-4d01-846a-4db398e04d14');\n",
              "          const dataTable =\n",
              "            await google.colab.kernel.invokeFunction('convertToInteractive',\n",
              "                                                     [key], {});\n",
              "          if (!dataTable) return;\n",
              "\n",
              "          const docLinkHtml = 'Like what you see? Visit the ' +\n",
              "            '<a target=\"_blank\" href=https://colab.research.google.com/notebooks/data_table.ipynb>data table notebook</a>'\n",
              "            + ' to learn more about interactive tables.';\n",
              "          element.innerHTML = '';\n",
              "          dataTable['output_type'] = 'display_data';\n",
              "          await google.colab.output.renderOutput(dataTable, element);\n",
              "          const docLink = document.createElement('div');\n",
              "          docLink.innerHTML = docLinkHtml;\n",
              "          element.appendChild(docLink);\n",
              "        }\n",
              "      </script>\n",
              "    </div>\n",
              "  </div>\n",
              "  "
            ]
          },
          "metadata": {},
          "execution_count": 29
        }
      ]
    },
    {
      "cell_type": "code",
      "source": [
        "print(f'The top 5 apps most reviewed by the users are: {\", \".join(ps_df1[\"App\"].head(5))}')"
      ],
      "metadata": {
        "id": "bfNW4CsBQ7tU",
        "colab": {
          "base_uri": "https://localhost:8080/"
        },
        "outputId": "3c83ed3e-84a8-4109-cff0-d2ebdf58d912"
      },
      "execution_count": 31,
      "outputs": [
        {
          "output_type": "stream",
          "name": "stdout",
          "text": [
            "The top 5 apps most reviewed by the users are: Facebook, WhatsApp Messenger, Instagram, Messenger – Text and Video Chat for Free, Clash of Clans\n"
          ]
        }
      ]
    },
    {
      "cell_type": "markdown",
      "source": [
        "# 3. Which are the top 5 expensive apps available on the playstore?"
      ],
      "metadata": {
        "id": "nMVdMXq3yDsN"
      }
    },
    {
      "cell_type": "code",
      "source": [
        "# sorting 'Price' values in descending order\n",
        "df = ps_df1.sort_values(by=['Price'], ascending=False)\n",
        "df.head(5)"
      ],
      "metadata": {
        "id": "yegRlvOpQ7pa",
        "colab": {
          "base_uri": "https://localhost:8080/",
          "height": 302
        },
        "outputId": "c79a76a8-8d4c-4b43-9cf5-6ce85c450fa6"
      },
      "execution_count": 32,
      "outputs": [
        {
          "output_type": "execute_result",
          "data": {
            "text/plain": [
              "                                    App  Reviews   Category  Rating  Size  \\\n",
              "5653           I'm Rich - Trump Edition    275.0  LIFESTYLE     3.6   7.3   \n",
              "5654  I'm Rich/Eu sou Rico/أنا غني/我很有錢      0.0  LIFESTYLE     4.3  40.0   \n",
              "5643                     I am Rich Plus    856.0     FAMILY     4.0   8.7   \n",
              "5648     I am rich (Most expensive app)    129.0    FINANCE     4.1   2.7   \n",
              "5627                  I Am Rich Premium   1867.0    FINANCE     4.1   4.7   \n",
              "\n",
              "      Type   Price Content Rating         Genres       Last Updated  \\\n",
              "5653  Paid  400.00       Everyone      Lifestyle        May 3, 2018   \n",
              "5654  Paid  399.99       Everyone      Lifestyle   December 1, 2017   \n",
              "5643  Paid  399.99       Everyone  Entertainment       May 19, 2018   \n",
              "5648  Paid  399.99           Teen        Finance   December 6, 2017   \n",
              "5627  Paid  399.99       Everyone        Finance  November 12, 2017   \n",
              "\n",
              "     Current Ver   Android Ver  Installs  \n",
              "5653       1.0.1    4.1 and up   10000.0  \n",
              "5654       MONEY    4.1 and up       0.0  \n",
              "5643         3.0    4.4 and up   10000.0  \n",
              "5648           2  4.0.3 and up    1000.0  \n",
              "5627         1.6    4.0 and up   50000.0  "
            ],
            "text/html": [
              "\n",
              "  <div id=\"df-5a1b9f8e-9629-45fe-8e7e-37589fa7c110\">\n",
              "    <div class=\"colab-df-container\">\n",
              "      <div>\n",
              "<style scoped>\n",
              "    .dataframe tbody tr th:only-of-type {\n",
              "        vertical-align: middle;\n",
              "    }\n",
              "\n",
              "    .dataframe tbody tr th {\n",
              "        vertical-align: top;\n",
              "    }\n",
              "\n",
              "    .dataframe thead th {\n",
              "        text-align: right;\n",
              "    }\n",
              "</style>\n",
              "<table border=\"1\" class=\"dataframe\">\n",
              "  <thead>\n",
              "    <tr style=\"text-align: right;\">\n",
              "      <th></th>\n",
              "      <th>App</th>\n",
              "      <th>Reviews</th>\n",
              "      <th>Category</th>\n",
              "      <th>Rating</th>\n",
              "      <th>Size</th>\n",
              "      <th>Type</th>\n",
              "      <th>Price</th>\n",
              "      <th>Content Rating</th>\n",
              "      <th>Genres</th>\n",
              "      <th>Last Updated</th>\n",
              "      <th>Current Ver</th>\n",
              "      <th>Android Ver</th>\n",
              "      <th>Installs</th>\n",
              "    </tr>\n",
              "  </thead>\n",
              "  <tbody>\n",
              "    <tr>\n",
              "      <th>5653</th>\n",
              "      <td>I'm Rich - Trump Edition</td>\n",
              "      <td>275.0</td>\n",
              "      <td>LIFESTYLE</td>\n",
              "      <td>3.6</td>\n",
              "      <td>7.3</td>\n",
              "      <td>Paid</td>\n",
              "      <td>400.00</td>\n",
              "      <td>Everyone</td>\n",
              "      <td>Lifestyle</td>\n",
              "      <td>May 3, 2018</td>\n",
              "      <td>1.0.1</td>\n",
              "      <td>4.1 and up</td>\n",
              "      <td>10000.0</td>\n",
              "    </tr>\n",
              "    <tr>\n",
              "      <th>5654</th>\n",
              "      <td>I'm Rich/Eu sou Rico/أنا غني/我很有錢</td>\n",
              "      <td>0.0</td>\n",
              "      <td>LIFESTYLE</td>\n",
              "      <td>4.3</td>\n",
              "      <td>40.0</td>\n",
              "      <td>Paid</td>\n",
              "      <td>399.99</td>\n",
              "      <td>Everyone</td>\n",
              "      <td>Lifestyle</td>\n",
              "      <td>December 1, 2017</td>\n",
              "      <td>MONEY</td>\n",
              "      <td>4.1 and up</td>\n",
              "      <td>0.0</td>\n",
              "    </tr>\n",
              "    <tr>\n",
              "      <th>5643</th>\n",
              "      <td>I am Rich Plus</td>\n",
              "      <td>856.0</td>\n",
              "      <td>FAMILY</td>\n",
              "      <td>4.0</td>\n",
              "      <td>8.7</td>\n",
              "      <td>Paid</td>\n",
              "      <td>399.99</td>\n",
              "      <td>Everyone</td>\n",
              "      <td>Entertainment</td>\n",
              "      <td>May 19, 2018</td>\n",
              "      <td>3.0</td>\n",
              "      <td>4.4 and up</td>\n",
              "      <td>10000.0</td>\n",
              "    </tr>\n",
              "    <tr>\n",
              "      <th>5648</th>\n",
              "      <td>I am rich (Most expensive app)</td>\n",
              "      <td>129.0</td>\n",
              "      <td>FINANCE</td>\n",
              "      <td>4.1</td>\n",
              "      <td>2.7</td>\n",
              "      <td>Paid</td>\n",
              "      <td>399.99</td>\n",
              "      <td>Teen</td>\n",
              "      <td>Finance</td>\n",
              "      <td>December 6, 2017</td>\n",
              "      <td>2</td>\n",
              "      <td>4.0.3 and up</td>\n",
              "      <td>1000.0</td>\n",
              "    </tr>\n",
              "    <tr>\n",
              "      <th>5627</th>\n",
              "      <td>I Am Rich Premium</td>\n",
              "      <td>1867.0</td>\n",
              "      <td>FINANCE</td>\n",
              "      <td>4.1</td>\n",
              "      <td>4.7</td>\n",
              "      <td>Paid</td>\n",
              "      <td>399.99</td>\n",
              "      <td>Everyone</td>\n",
              "      <td>Finance</td>\n",
              "      <td>November 12, 2017</td>\n",
              "      <td>1.6</td>\n",
              "      <td>4.0 and up</td>\n",
              "      <td>50000.0</td>\n",
              "    </tr>\n",
              "  </tbody>\n",
              "</table>\n",
              "</div>\n",
              "      <button class=\"colab-df-convert\" onclick=\"convertToInteractive('df-5a1b9f8e-9629-45fe-8e7e-37589fa7c110')\"\n",
              "              title=\"Convert this dataframe to an interactive table.\"\n",
              "              style=\"display:none;\">\n",
              "        \n",
              "  <svg xmlns=\"http://www.w3.org/2000/svg\" height=\"24px\"viewBox=\"0 0 24 24\"\n",
              "       width=\"24px\">\n",
              "    <path d=\"M0 0h24v24H0V0z\" fill=\"none\"/>\n",
              "    <path d=\"M18.56 5.44l.94 2.06.94-2.06 2.06-.94-2.06-.94-.94-2.06-.94 2.06-2.06.94zm-11 1L8.5 8.5l.94-2.06 2.06-.94-2.06-.94L8.5 2.5l-.94 2.06-2.06.94zm10 10l.94 2.06.94-2.06 2.06-.94-2.06-.94-.94-2.06-.94 2.06-2.06.94z\"/><path d=\"M17.41 7.96l-1.37-1.37c-.4-.4-.92-.59-1.43-.59-.52 0-1.04.2-1.43.59L10.3 9.45l-7.72 7.72c-.78.78-.78 2.05 0 2.83L4 21.41c.39.39.9.59 1.41.59.51 0 1.02-.2 1.41-.59l7.78-7.78 2.81-2.81c.8-.78.8-2.07 0-2.86zM5.41 20L4 18.59l7.72-7.72 1.47 1.35L5.41 20z\"/>\n",
              "  </svg>\n",
              "      </button>\n",
              "      \n",
              "  <style>\n",
              "    .colab-df-container {\n",
              "      display:flex;\n",
              "      flex-wrap:wrap;\n",
              "      gap: 12px;\n",
              "    }\n",
              "\n",
              "    .colab-df-convert {\n",
              "      background-color: #E8F0FE;\n",
              "      border: none;\n",
              "      border-radius: 50%;\n",
              "      cursor: pointer;\n",
              "      display: none;\n",
              "      fill: #1967D2;\n",
              "      height: 32px;\n",
              "      padding: 0 0 0 0;\n",
              "      width: 32px;\n",
              "    }\n",
              "\n",
              "    .colab-df-convert:hover {\n",
              "      background-color: #E2EBFA;\n",
              "      box-shadow: 0px 1px 2px rgba(60, 64, 67, 0.3), 0px 1px 3px 1px rgba(60, 64, 67, 0.15);\n",
              "      fill: #174EA6;\n",
              "    }\n",
              "\n",
              "    [theme=dark] .colab-df-convert {\n",
              "      background-color: #3B4455;\n",
              "      fill: #D2E3FC;\n",
              "    }\n",
              "\n",
              "    [theme=dark] .colab-df-convert:hover {\n",
              "      background-color: #434B5C;\n",
              "      box-shadow: 0px 1px 3px 1px rgba(0, 0, 0, 0.15);\n",
              "      filter: drop-shadow(0px 1px 2px rgba(0, 0, 0, 0.3));\n",
              "      fill: #FFFFFF;\n",
              "    }\n",
              "  </style>\n",
              "\n",
              "      <script>\n",
              "        const buttonEl =\n",
              "          document.querySelector('#df-5a1b9f8e-9629-45fe-8e7e-37589fa7c110 button.colab-df-convert');\n",
              "        buttonEl.style.display =\n",
              "          google.colab.kernel.accessAllowed ? 'block' : 'none';\n",
              "\n",
              "        async function convertToInteractive(key) {\n",
              "          const element = document.querySelector('#df-5a1b9f8e-9629-45fe-8e7e-37589fa7c110');\n",
              "          const dataTable =\n",
              "            await google.colab.kernel.invokeFunction('convertToInteractive',\n",
              "                                                     [key], {});\n",
              "          if (!dataTable) return;\n",
              "\n",
              "          const docLinkHtml = 'Like what you see? Visit the ' +\n",
              "            '<a target=\"_blank\" href=https://colab.research.google.com/notebooks/data_table.ipynb>data table notebook</a>'\n",
              "            + ' to learn more about interactive tables.';\n",
              "          element.innerHTML = '';\n",
              "          dataTable['output_type'] = 'display_data';\n",
              "          await google.colab.output.renderOutput(dataTable, element);\n",
              "          const docLink = document.createElement('div');\n",
              "          docLink.innerHTML = docLinkHtml;\n",
              "          element.appendChild(docLink);\n",
              "        }\n",
              "      </script>\n",
              "    </div>\n",
              "  </div>\n",
              "  "
            ]
          },
          "metadata": {},
          "execution_count": 32
        }
      ]
    },
    {
      "cell_type": "code",
      "source": [
        "print(f'The top 5 expensive apps available on the playstore are: {\", \".join(df[\"App\"].head(5))}')"
      ],
      "metadata": {
        "id": "QLjhUhthQ7ls",
        "colab": {
          "base_uri": "https://localhost:8080/"
        },
        "outputId": "9ff6c8d3-ce8c-460c-d4e0-f8352e8b8a0a"
      },
      "execution_count": 33,
      "outputs": [
        {
          "output_type": "stream",
          "name": "stdout",
          "text": [
            "The top 5 expensive apps available on the playstore are: I'm Rich - Trump Edition, I'm Rich/Eu sou Rico/أنا غني/我很有錢, I am Rich Plus, I am rich (Most expensive app), I Am Rich Premium\n"
          ]
        }
      ]
    },
    {
      "cell_type": "markdown",
      "source": [
        "# 4. Which are the 5 apps from the 'Finance' category  having the lowest rating?"
      ],
      "metadata": {
        "id": "R__IKVvLz6qc"
      }
    },
    {
      "cell_type": "code",
      "source": [
        "df = ps_df1[ps_df1['Category'] == 'FINANCE'] # fethching finance value in Category column\n",
        "df = df.sort_values(by=['Rating'], ascending=True) #sorting its vaues by Rating in ascending order\n",
        "df.head(5)"
      ],
      "metadata": {
        "colab": {
          "base_uri": "https://localhost:8080/",
          "height": 206
        },
        "id": "Bu4b9Aruz9Ai",
        "outputId": "d9ec3484-3ad2-41e5-f997-fe5b6a8faea2"
      },
      "execution_count": 34,
      "outputs": [
        {
          "output_type": "execute_result",
          "data": {
            "text/plain": [
              "                          App  Reviews Category  Rating  Size  Type  Price  \\\n",
              "1998            CB Mobile Biz      3.0  FINANCE     1.0   8.4  Free   0.00   \n",
              "8836     Tech CU Card Manager      2.0  FINANCE     1.0   7.2  Free   0.00   \n",
              "3998               EY TaxChat     44.0  FINANCE     1.2  27.0  Free   0.00   \n",
              "1997         CB Mobile Access     57.0  FINANCE     1.5  25.0  Free   0.00   \n",
              "1682  Bitcoin BX Thailand PRO     21.0  FINANCE     1.7  21.0  Paid   4.99   \n",
              "\n",
              "     Content Rating   Genres       Last Updated Current Ver   Android Ver  \\\n",
              "1998       Everyone  Finance  February 22, 2016    4.4.1255    4.0 and up   \n",
              "8836       Everyone  Finance      July 25, 2017       1.0.1    4.0 and up   \n",
              "3998       Everyone  Finance      April 9, 2018      3.24.0    6.0 and up   \n",
              "1997       Everyone  Finance  February 26, 2018       4.3.6    4.2 and up   \n",
              "1682       Everyone  Finance   October 22, 2017         5.0  4.0.3 and up   \n",
              "\n",
              "      Installs  \n",
              "1998     500.0  \n",
              "8836    1000.0  \n",
              "3998    1000.0  \n",
              "1997    1000.0  \n",
              "1682     100.0  "
            ],
            "text/html": [
              "\n",
              "  <div id=\"df-b76a8137-9ed8-46b1-bae0-4d53f5d63197\">\n",
              "    <div class=\"colab-df-container\">\n",
              "      <div>\n",
              "<style scoped>\n",
              "    .dataframe tbody tr th:only-of-type {\n",
              "        vertical-align: middle;\n",
              "    }\n",
              "\n",
              "    .dataframe tbody tr th {\n",
              "        vertical-align: top;\n",
              "    }\n",
              "\n",
              "    .dataframe thead th {\n",
              "        text-align: right;\n",
              "    }\n",
              "</style>\n",
              "<table border=\"1\" class=\"dataframe\">\n",
              "  <thead>\n",
              "    <tr style=\"text-align: right;\">\n",
              "      <th></th>\n",
              "      <th>App</th>\n",
              "      <th>Reviews</th>\n",
              "      <th>Category</th>\n",
              "      <th>Rating</th>\n",
              "      <th>Size</th>\n",
              "      <th>Type</th>\n",
              "      <th>Price</th>\n",
              "      <th>Content Rating</th>\n",
              "      <th>Genres</th>\n",
              "      <th>Last Updated</th>\n",
              "      <th>Current Ver</th>\n",
              "      <th>Android Ver</th>\n",
              "      <th>Installs</th>\n",
              "    </tr>\n",
              "  </thead>\n",
              "  <tbody>\n",
              "    <tr>\n",
              "      <th>1998</th>\n",
              "      <td>CB Mobile Biz</td>\n",
              "      <td>3.0</td>\n",
              "      <td>FINANCE</td>\n",
              "      <td>1.0</td>\n",
              "      <td>8.4</td>\n",
              "      <td>Free</td>\n",
              "      <td>0.00</td>\n",
              "      <td>Everyone</td>\n",
              "      <td>Finance</td>\n",
              "      <td>February 22, 2016</td>\n",
              "      <td>4.4.1255</td>\n",
              "      <td>4.0 and up</td>\n",
              "      <td>500.0</td>\n",
              "    </tr>\n",
              "    <tr>\n",
              "      <th>8836</th>\n",
              "      <td>Tech CU Card Manager</td>\n",
              "      <td>2.0</td>\n",
              "      <td>FINANCE</td>\n",
              "      <td>1.0</td>\n",
              "      <td>7.2</td>\n",
              "      <td>Free</td>\n",
              "      <td>0.00</td>\n",
              "      <td>Everyone</td>\n",
              "      <td>Finance</td>\n",
              "      <td>July 25, 2017</td>\n",
              "      <td>1.0.1</td>\n",
              "      <td>4.0 and up</td>\n",
              "      <td>1000.0</td>\n",
              "    </tr>\n",
              "    <tr>\n",
              "      <th>3998</th>\n",
              "      <td>EY TaxChat</td>\n",
              "      <td>44.0</td>\n",
              "      <td>FINANCE</td>\n",
              "      <td>1.2</td>\n",
              "      <td>27.0</td>\n",
              "      <td>Free</td>\n",
              "      <td>0.00</td>\n",
              "      <td>Everyone</td>\n",
              "      <td>Finance</td>\n",
              "      <td>April 9, 2018</td>\n",
              "      <td>3.24.0</td>\n",
              "      <td>6.0 and up</td>\n",
              "      <td>1000.0</td>\n",
              "    </tr>\n",
              "    <tr>\n",
              "      <th>1997</th>\n",
              "      <td>CB Mobile Access</td>\n",
              "      <td>57.0</td>\n",
              "      <td>FINANCE</td>\n",
              "      <td>1.5</td>\n",
              "      <td>25.0</td>\n",
              "      <td>Free</td>\n",
              "      <td>0.00</td>\n",
              "      <td>Everyone</td>\n",
              "      <td>Finance</td>\n",
              "      <td>February 26, 2018</td>\n",
              "      <td>4.3.6</td>\n",
              "      <td>4.2 and up</td>\n",
              "      <td>1000.0</td>\n",
              "    </tr>\n",
              "    <tr>\n",
              "      <th>1682</th>\n",
              "      <td>Bitcoin BX Thailand PRO</td>\n",
              "      <td>21.0</td>\n",
              "      <td>FINANCE</td>\n",
              "      <td>1.7</td>\n",
              "      <td>21.0</td>\n",
              "      <td>Paid</td>\n",
              "      <td>4.99</td>\n",
              "      <td>Everyone</td>\n",
              "      <td>Finance</td>\n",
              "      <td>October 22, 2017</td>\n",
              "      <td>5.0</td>\n",
              "      <td>4.0.3 and up</td>\n",
              "      <td>100.0</td>\n",
              "    </tr>\n",
              "  </tbody>\n",
              "</table>\n",
              "</div>\n",
              "      <button class=\"colab-df-convert\" onclick=\"convertToInteractive('df-b76a8137-9ed8-46b1-bae0-4d53f5d63197')\"\n",
              "              title=\"Convert this dataframe to an interactive table.\"\n",
              "              style=\"display:none;\">\n",
              "        \n",
              "  <svg xmlns=\"http://www.w3.org/2000/svg\" height=\"24px\"viewBox=\"0 0 24 24\"\n",
              "       width=\"24px\">\n",
              "    <path d=\"M0 0h24v24H0V0z\" fill=\"none\"/>\n",
              "    <path d=\"M18.56 5.44l.94 2.06.94-2.06 2.06-.94-2.06-.94-.94-2.06-.94 2.06-2.06.94zm-11 1L8.5 8.5l.94-2.06 2.06-.94-2.06-.94L8.5 2.5l-.94 2.06-2.06.94zm10 10l.94 2.06.94-2.06 2.06-.94-2.06-.94-.94-2.06-.94 2.06-2.06.94z\"/><path d=\"M17.41 7.96l-1.37-1.37c-.4-.4-.92-.59-1.43-.59-.52 0-1.04.2-1.43.59L10.3 9.45l-7.72 7.72c-.78.78-.78 2.05 0 2.83L4 21.41c.39.39.9.59 1.41.59.51 0 1.02-.2 1.41-.59l7.78-7.78 2.81-2.81c.8-.78.8-2.07 0-2.86zM5.41 20L4 18.59l7.72-7.72 1.47 1.35L5.41 20z\"/>\n",
              "  </svg>\n",
              "      </button>\n",
              "      \n",
              "  <style>\n",
              "    .colab-df-container {\n",
              "      display:flex;\n",
              "      flex-wrap:wrap;\n",
              "      gap: 12px;\n",
              "    }\n",
              "\n",
              "    .colab-df-convert {\n",
              "      background-color: #E8F0FE;\n",
              "      border: none;\n",
              "      border-radius: 50%;\n",
              "      cursor: pointer;\n",
              "      display: none;\n",
              "      fill: #1967D2;\n",
              "      height: 32px;\n",
              "      padding: 0 0 0 0;\n",
              "      width: 32px;\n",
              "    }\n",
              "\n",
              "    .colab-df-convert:hover {\n",
              "      background-color: #E2EBFA;\n",
              "      box-shadow: 0px 1px 2px rgba(60, 64, 67, 0.3), 0px 1px 3px 1px rgba(60, 64, 67, 0.15);\n",
              "      fill: #174EA6;\n",
              "    }\n",
              "\n",
              "    [theme=dark] .colab-df-convert {\n",
              "      background-color: #3B4455;\n",
              "      fill: #D2E3FC;\n",
              "    }\n",
              "\n",
              "    [theme=dark] .colab-df-convert:hover {\n",
              "      background-color: #434B5C;\n",
              "      box-shadow: 0px 1px 3px 1px rgba(0, 0, 0, 0.15);\n",
              "      filter: drop-shadow(0px 1px 2px rgba(0, 0, 0, 0.3));\n",
              "      fill: #FFFFFF;\n",
              "    }\n",
              "  </style>\n",
              "\n",
              "      <script>\n",
              "        const buttonEl =\n",
              "          document.querySelector('#df-b76a8137-9ed8-46b1-bae0-4d53f5d63197 button.colab-df-convert');\n",
              "        buttonEl.style.display =\n",
              "          google.colab.kernel.accessAllowed ? 'block' : 'none';\n",
              "\n",
              "        async function convertToInteractive(key) {\n",
              "          const element = document.querySelector('#df-b76a8137-9ed8-46b1-bae0-4d53f5d63197');\n",
              "          const dataTable =\n",
              "            await google.colab.kernel.invokeFunction('convertToInteractive',\n",
              "                                                     [key], {});\n",
              "          if (!dataTable) return;\n",
              "\n",
              "          const docLinkHtml = 'Like what you see? Visit the ' +\n",
              "            '<a target=\"_blank\" href=https://colab.research.google.com/notebooks/data_table.ipynb>data table notebook</a>'\n",
              "            + ' to learn more about interactive tables.';\n",
              "          element.innerHTML = '';\n",
              "          dataTable['output_type'] = 'display_data';\n",
              "          await google.colab.output.renderOutput(dataTable, element);\n",
              "          const docLink = document.createElement('div');\n",
              "          docLink.innerHTML = docLinkHtml;\n",
              "          element.appendChild(docLink);\n",
              "        }\n",
              "      </script>\n",
              "    </div>\n",
              "  </div>\n",
              "  "
            ]
          },
          "metadata": {},
          "execution_count": 34
        }
      ]
    },
    {
      "cell_type": "code",
      "source": [
        "print(f'The 5 apps from the Finance category having the lowest rating are: {\", \".join(df[\"App\"].head(5))}')"
      ],
      "metadata": {
        "colab": {
          "base_uri": "https://localhost:8080/"
        },
        "id": "l6HgJ-Rp2o09",
        "outputId": "8ca275ce-924a-4765-c44c-a29a0c10b450"
      },
      "execution_count": 35,
      "outputs": [
        {
          "output_type": "stream",
          "name": "stdout",
          "text": [
            "The 5 apps from the Finance category having the lowest rating are: CB Mobile Biz, Tech CU Card Manager, EY TaxChat, CB Mobile Access, Bitcoin BX Thailand PRO\n"
          ]
        }
      ]
    },
    {
      "cell_type": "markdown",
      "source": [
        "# 5. Which are the top 5 most installed apps in Game category?"
      ],
      "metadata": {
        "id": "12WLi2323A1z"
      }
    },
    {
      "cell_type": "code",
      "source": [
        "df = ps_df1[ps_df1['Category'] == 'GAME'] # fethching Game value in Category column\n",
        "df = df.sort_values(by=['Installs'], ascending=False) #sorting its values by Rating in descending order\n",
        "df.head(5)"
      ],
      "metadata": {
        "colab": {
          "base_uri": "https://localhost:8080/",
          "height": 206
        },
        "id": "thZbEF0A27YQ",
        "outputId": "b9474522-981f-4533-c7de-425b2d3747e7"
      },
      "execution_count": 35,
      "outputs": [
        {
          "output_type": "execute_result",
          "data": {
            "text/plain": [
              "                   App     Reviews Category  Rating  Size  Type  Price  \\\n",
              "8619    Subway Surfers  27725352.0     GAME     4.5  76.0  Free    0.0   \n",
              "2480  Candy Crush Saga  22430188.0     GAME     4.4  74.0  Free    0.0   \n",
              "6849    My Talking Tom  14892469.0     GAME     4.5   0.0  Free    0.0   \n",
              "8862      Temple Run 2   8119154.0     GAME     4.3  62.0  Free    0.0   \n",
              "7592               Pou  10486018.0     GAME     4.3  24.0  Free    0.0   \n",
              "\n",
              "     Content Rating  Genres   Last Updated Current Ver Android Ver  \\\n",
              "8619   Everyone 10+  Arcade  July 12, 2018      1.90.0  4.1 and up   \n",
              "2480       Everyone  Casual   July 5, 2018   1.129.0.2  4.1 and up   \n",
              "6849       Everyone  Casual  July 19, 2018   4.8.0.132  4.1 and up   \n",
              "8862       Everyone  Action   July 5, 2018      1.49.1  4.0 and up   \n",
              "7592       Everyone  Casual   May 25, 2018      1.4.77  4.0 and up   \n",
              "\n",
              "          Installs  \n",
              "8619  1.000000e+09  \n",
              "2480  5.000000e+08  \n",
              "6849  5.000000e+08  \n",
              "8862  5.000000e+08  \n",
              "7592  5.000000e+08  "
            ],
            "text/html": [
              "\n",
              "  <div id=\"df-3a691b73-5f9a-44aa-858f-974a58b95521\">\n",
              "    <div class=\"colab-df-container\">\n",
              "      <div>\n",
              "<style scoped>\n",
              "    .dataframe tbody tr th:only-of-type {\n",
              "        vertical-align: middle;\n",
              "    }\n",
              "\n",
              "    .dataframe tbody tr th {\n",
              "        vertical-align: top;\n",
              "    }\n",
              "\n",
              "    .dataframe thead th {\n",
              "        text-align: right;\n",
              "    }\n",
              "</style>\n",
              "<table border=\"1\" class=\"dataframe\">\n",
              "  <thead>\n",
              "    <tr style=\"text-align: right;\">\n",
              "      <th></th>\n",
              "      <th>App</th>\n",
              "      <th>Reviews</th>\n",
              "      <th>Category</th>\n",
              "      <th>Rating</th>\n",
              "      <th>Size</th>\n",
              "      <th>Type</th>\n",
              "      <th>Price</th>\n",
              "      <th>Content Rating</th>\n",
              "      <th>Genres</th>\n",
              "      <th>Last Updated</th>\n",
              "      <th>Current Ver</th>\n",
              "      <th>Android Ver</th>\n",
              "      <th>Installs</th>\n",
              "    </tr>\n",
              "  </thead>\n",
              "  <tbody>\n",
              "    <tr>\n",
              "      <th>8619</th>\n",
              "      <td>Subway Surfers</td>\n",
              "      <td>27725352.0</td>\n",
              "      <td>GAME</td>\n",
              "      <td>4.5</td>\n",
              "      <td>76.0</td>\n",
              "      <td>Free</td>\n",
              "      <td>0.0</td>\n",
              "      <td>Everyone 10+</td>\n",
              "      <td>Arcade</td>\n",
              "      <td>July 12, 2018</td>\n",
              "      <td>1.90.0</td>\n",
              "      <td>4.1 and up</td>\n",
              "      <td>1.000000e+09</td>\n",
              "    </tr>\n",
              "    <tr>\n",
              "      <th>2480</th>\n",
              "      <td>Candy Crush Saga</td>\n",
              "      <td>22430188.0</td>\n",
              "      <td>GAME</td>\n",
              "      <td>4.4</td>\n",
              "      <td>74.0</td>\n",
              "      <td>Free</td>\n",
              "      <td>0.0</td>\n",
              "      <td>Everyone</td>\n",
              "      <td>Casual</td>\n",
              "      <td>July 5, 2018</td>\n",
              "      <td>1.129.0.2</td>\n",
              "      <td>4.1 and up</td>\n",
              "      <td>5.000000e+08</td>\n",
              "    </tr>\n",
              "    <tr>\n",
              "      <th>6849</th>\n",
              "      <td>My Talking Tom</td>\n",
              "      <td>14892469.0</td>\n",
              "      <td>GAME</td>\n",
              "      <td>4.5</td>\n",
              "      <td>0.0</td>\n",
              "      <td>Free</td>\n",
              "      <td>0.0</td>\n",
              "      <td>Everyone</td>\n",
              "      <td>Casual</td>\n",
              "      <td>July 19, 2018</td>\n",
              "      <td>4.8.0.132</td>\n",
              "      <td>4.1 and up</td>\n",
              "      <td>5.000000e+08</td>\n",
              "    </tr>\n",
              "    <tr>\n",
              "      <th>8862</th>\n",
              "      <td>Temple Run 2</td>\n",
              "      <td>8119154.0</td>\n",
              "      <td>GAME</td>\n",
              "      <td>4.3</td>\n",
              "      <td>62.0</td>\n",
              "      <td>Free</td>\n",
              "      <td>0.0</td>\n",
              "      <td>Everyone</td>\n",
              "      <td>Action</td>\n",
              "      <td>July 5, 2018</td>\n",
              "      <td>1.49.1</td>\n",
              "      <td>4.0 and up</td>\n",
              "      <td>5.000000e+08</td>\n",
              "    </tr>\n",
              "    <tr>\n",
              "      <th>7592</th>\n",
              "      <td>Pou</td>\n",
              "      <td>10486018.0</td>\n",
              "      <td>GAME</td>\n",
              "      <td>4.3</td>\n",
              "      <td>24.0</td>\n",
              "      <td>Free</td>\n",
              "      <td>0.0</td>\n",
              "      <td>Everyone</td>\n",
              "      <td>Casual</td>\n",
              "      <td>May 25, 2018</td>\n",
              "      <td>1.4.77</td>\n",
              "      <td>4.0 and up</td>\n",
              "      <td>5.000000e+08</td>\n",
              "    </tr>\n",
              "  </tbody>\n",
              "</table>\n",
              "</div>\n",
              "      <button class=\"colab-df-convert\" onclick=\"convertToInteractive('df-3a691b73-5f9a-44aa-858f-974a58b95521')\"\n",
              "              title=\"Convert this dataframe to an interactive table.\"\n",
              "              style=\"display:none;\">\n",
              "        \n",
              "  <svg xmlns=\"http://www.w3.org/2000/svg\" height=\"24px\"viewBox=\"0 0 24 24\"\n",
              "       width=\"24px\">\n",
              "    <path d=\"M0 0h24v24H0V0z\" fill=\"none\"/>\n",
              "    <path d=\"M18.56 5.44l.94 2.06.94-2.06 2.06-.94-2.06-.94-.94-2.06-.94 2.06-2.06.94zm-11 1L8.5 8.5l.94-2.06 2.06-.94-2.06-.94L8.5 2.5l-.94 2.06-2.06.94zm10 10l.94 2.06.94-2.06 2.06-.94-2.06-.94-.94-2.06-.94 2.06-2.06.94z\"/><path d=\"M17.41 7.96l-1.37-1.37c-.4-.4-.92-.59-1.43-.59-.52 0-1.04.2-1.43.59L10.3 9.45l-7.72 7.72c-.78.78-.78 2.05 0 2.83L4 21.41c.39.39.9.59 1.41.59.51 0 1.02-.2 1.41-.59l7.78-7.78 2.81-2.81c.8-.78.8-2.07 0-2.86zM5.41 20L4 18.59l7.72-7.72 1.47 1.35L5.41 20z\"/>\n",
              "  </svg>\n",
              "      </button>\n",
              "      \n",
              "  <style>\n",
              "    .colab-df-container {\n",
              "      display:flex;\n",
              "      flex-wrap:wrap;\n",
              "      gap: 12px;\n",
              "    }\n",
              "\n",
              "    .colab-df-convert {\n",
              "      background-color: #E8F0FE;\n",
              "      border: none;\n",
              "      border-radius: 50%;\n",
              "      cursor: pointer;\n",
              "      display: none;\n",
              "      fill: #1967D2;\n",
              "      height: 32px;\n",
              "      padding: 0 0 0 0;\n",
              "      width: 32px;\n",
              "    }\n",
              "\n",
              "    .colab-df-convert:hover {\n",
              "      background-color: #E2EBFA;\n",
              "      box-shadow: 0px 1px 2px rgba(60, 64, 67, 0.3), 0px 1px 3px 1px rgba(60, 64, 67, 0.15);\n",
              "      fill: #174EA6;\n",
              "    }\n",
              "\n",
              "    [theme=dark] .colab-df-convert {\n",
              "      background-color: #3B4455;\n",
              "      fill: #D2E3FC;\n",
              "    }\n",
              "\n",
              "    [theme=dark] .colab-df-convert:hover {\n",
              "      background-color: #434B5C;\n",
              "      box-shadow: 0px 1px 3px 1px rgba(0, 0, 0, 0.15);\n",
              "      filter: drop-shadow(0px 1px 2px rgba(0, 0, 0, 0.3));\n",
              "      fill: #FFFFFF;\n",
              "    }\n",
              "  </style>\n",
              "\n",
              "      <script>\n",
              "        const buttonEl =\n",
              "          document.querySelector('#df-3a691b73-5f9a-44aa-858f-974a58b95521 button.colab-df-convert');\n",
              "        buttonEl.style.display =\n",
              "          google.colab.kernel.accessAllowed ? 'block' : 'none';\n",
              "\n",
              "        async function convertToInteractive(key) {\n",
              "          const element = document.querySelector('#df-3a691b73-5f9a-44aa-858f-974a58b95521');\n",
              "          const dataTable =\n",
              "            await google.colab.kernel.invokeFunction('convertToInteractive',\n",
              "                                                     [key], {});\n",
              "          if (!dataTable) return;\n",
              "\n",
              "          const docLinkHtml = 'Like what you see? Visit the ' +\n",
              "            '<a target=\"_blank\" href=https://colab.research.google.com/notebooks/data_table.ipynb>data table notebook</a>'\n",
              "            + ' to learn more about interactive tables.';\n",
              "          element.innerHTML = '';\n",
              "          dataTable['output_type'] = 'display_data';\n",
              "          await google.colab.output.renderOutput(dataTable, element);\n",
              "          const docLink = document.createElement('div');\n",
              "          docLink.innerHTML = docLinkHtml;\n",
              "          element.appendChild(docLink);\n",
              "        }\n",
              "      </script>\n",
              "    </div>\n",
              "  </div>\n",
              "  "
            ]
          },
          "metadata": {},
          "execution_count": 35
        }
      ]
    },
    {
      "cell_type": "code",
      "source": [
        "print(f'The top 5 most installed apps in Game category are: {\", \".join(df[\"App\"].head(5))}')"
      ],
      "metadata": {
        "colab": {
          "base_uri": "https://localhost:8080/"
        },
        "id": "qN_SFNYB3SD0",
        "outputId": "61f60de0-b7ce-4a58-907b-3f8a582c255a"
      },
      "execution_count": 36,
      "outputs": [
        {
          "output_type": "stream",
          "name": "stdout",
          "text": [
            "The top 5 most installed apps in Game category are: Subway Surfers, Candy Crush Saga, My Talking Tom, Temple Run 2, Pou\n"
          ]
        }
      ]
    },
    {
      "cell_type": "markdown",
      "source": [
        "#**Visualization work**"
      ],
      "metadata": {
        "id": "nL0SzbyK4V8f"
      }
    },
    {
      "cell_type": "markdown",
      "source": [
        "# 6. Looking for category of apps on a bar grapph"
      ],
      "metadata": {
        "id": "oPW-h4Ka4sW1"
      }
    },
    {
      "cell_type": "code",
      "source": [
        "# get the number of apps for each category\n",
        "plt.figure(figsize=(15, 10))\n",
        "sns.set_style('darkgrid')\n",
        "sns.countplot(x='Category', data=ps_df1)\n",
        "plt.title('Number of Apps Per Category')\n",
        "plt.xticks(rotation=90)\n",
        "plt.ylabel('Number of Apps')\n",
        "plt.show()"
      ],
      "metadata": {
        "colab": {
          "base_uri": "https://localhost:8080/",
          "height": 738
        },
        "id": "IsayNMbl5iqE",
        "outputId": "611c0c0e-c4cb-4741-814d-8f124e6e3b97"
      },
      "execution_count": 37,
      "outputs": [
        {
          "output_type": "display_data",
          "data": {
            "text/plain": [
              "<Figure size 1080x720 with 1 Axes>"
            ],
            "image/png": "[encoded data removed]"
          },
          "metadata": {
            "needs_background": "light"
          }
        }
      ]
    },
    {
      "cell_type": "markdown",
      "source": [
        "From the above graph we can figure out that most of the apps available on the play store are from the categories of 'FAMILY', 'GAME' and also 'TOOLS."
      ],
      "metadata": {
        "id": "djShtPzs6UcJ"
      }
    },
    {
      "cell_type": "markdown",
      "source": [
        "# 7. Sizes of Application"
      ],
      "metadata": {
        "id": "VPxsVUwlTCk_"
      }
    },
    {
      "cell_type": "code",
      "source": [
        "\n",
        "plot_figure = plt.figure(figsize =(10,5))\n",
        "sns.boxplot(data = ps_df1['Size'] ,orient=\"h\", x= ps_df1['Size'])\n",
        "\n",
        "median = ps_df1['Size'].median()\n",
        "\n",
        "plt.title (\"Boxplot of Size values\")"
      ],
      "metadata": {
        "colab": {
          "base_uri": "https://localhost:8080/",
          "height": 367
        },
        "id": "-_n8pfS3QhXR",
        "outputId": "38e92384-a95c-4b55-e5c3-3a3cba9f5eab"
      },
      "execution_count": 38,
      "outputs": [
        {
          "output_type": "execute_result",
          "data": {
            "text/plain": [
              "Text(0.5, 1.0, 'Boxplot of Size values')"
            ]
          },
          "metadata": {},
          "execution_count": 38
        },
        {
          "output_type": "display_data",
          "data": {
            "text/plain": [
              "<Figure size 720x360 with 1 Axes>"
            ],
            "image/png": "[encoded data removed]"
          },
          "metadata": {}
        }
      ]
    },
    {
      "cell_type": "markdown",
      "source": [
        "From the above boxplot, it can be concluded that the size of  majority of the apps available on the Play Store are within the range of 5Mb to 25Mb and their median size is around 9Mb."
      ],
      "metadata": {
        "id": "FUbKdCAgUst0"
      }
    },
    {
      "cell_type": "markdown",
      "source": [
        "#8. Rating"
      ],
      "metadata": {
        "id": "YAvS24eX6_CD"
      }
    },
    {
      "cell_type": "code",
      "source": [
        "# show the distribution of rating\n",
        "plt.figure(figsize=(15, 10))\n",
        "sns.countplot(x='Rating', data=ps_df1)\n",
        "plt.title('Rating Distribution')\n",
        "plt.xticks(rotation=90)\n",
        "plt.ylabel('Number of Apps')\n",
        "plt.show()"
      ],
      "metadata": {
        "colab": {
          "base_uri": "https://localhost:8080/",
          "height": 628
        },
        "id": "pJmCUrHm6-UI",
        "outputId": "4fdbb522-d893-40e6-c796-ae34abe4c8cf"
      },
      "execution_count": 39,
      "outputs": [
        {
          "output_type": "display_data",
          "data": {
            "text/plain": [
              "<Figure size 1080x720 with 1 Axes>"
            ],
            "image/png": "[encoded data removed]"
          },
          "metadata": {}
        }
      ]
    },
    {
      "cell_type": "markdown",
      "source": [
        "From the above plotting, it can be figure out that most of the apps in the Play Store are having rating higher than 4 or in the range of 4 to 4.7."
      ],
      "metadata": {
        "id": "cj-bGm977yF3"
      }
    },
    {
      "cell_type": "markdown",
      "source": [
        "#9. Types of Applications"
      ],
      "metadata": {
        "id": "jEJ_pcp39Ndd"
      }
    },
    {
      "cell_type": "code",
      "source": [
        "# application type distribution\n",
        "# plotting pie chart for the Apps Type available in playstore from that we find which apps type are mostly using bu users.\n",
        "## For plotting this graph we take the help of matplotlib and seborn library\n",
        "types_of_ps_df = ps_df1.Type.value_counts()\n",
        "types_of_ps_df.plot(kind='pie', fontsize=15, explode= (0.05,0.1), autopct='%1.0f%%', pctdistance=0.60, labeldistance=1.05)"
      ],
      "metadata": {
        "colab": {
          "base_uri": "https://localhost:8080/",
          "height": 265
        },
        "id": "uKSw9O5L8lVF",
        "outputId": "9daa401f-5f03-4797-ed5b-e8a83f09bff7"
      },
      "execution_count": 40,
      "outputs": [
        {
          "output_type": "execute_result",
          "data": {
            "text/plain": [
              "<matplotlib.axes._subplots.AxesSubplot at 0x7feb473c13d0>"
            ]
          },
          "metadata": {},
          "execution_count": 40
        },
        {
          "output_type": "display_data",
          "data": {
            "text/plain": [
              "<Figure size 432x288 with 1 Axes>"
            ],
            "image/png": "[encoded data removed]"
          },
          "metadata": {}
        }
      ]
    },
    {
      "cell_type": "markdown",
      "source": [
        "From the above pie chart, it can be concluded that majority of the apps available on the Play Store are Free apps(i.e. 92%) and only few apps are paid (i.e. 8%) ."
      ],
      "metadata": {
        "id": "lWHdi4ouQKJH"
      }
    },
    {
      "cell_type": "markdown",
      "source": [
        "#10. Installs"
      ],
      "metadata": {
        "id": "Y09L_5xs78g3"
      }
    },
    {
      "cell_type": "code",
      "source": [
        "# get the number of installs for each category\n",
        "categories = ps_df1.groupby('Category')\n",
        "installs_sum_df = categories[['Installs']].sum()\n",
        "installs_sum_df = installs_sum_df.reset_index()  # to convert groupby object into dataframe\n",
        "\n",
        "plt.figure(figsize=(15, 10))\n",
        "sns.barplot(x='Category', y='Installs', data=installs_sum_df)\n",
        "plt.xticks(rotation=90)\n",
        "plt.ylabel('Installs (e+10)')\n",
        "plt.title('Number of Installs For Each Category')\n",
        "plt.show()"
      ],
      "metadata": {
        "colab": {
          "base_uri": "https://localhost:8080/",
          "height": 738
        },
        "id": "K1AOzFJf8OwV",
        "outputId": "09597427-a335-435f-8007-c3766890289e"
      },
      "execution_count": 41,
      "outputs": [
        {
          "output_type": "display_data",
          "data": {
            "text/plain": [
              "<Figure size 1080x720 with 1 Axes>"
            ],
            "image/png": "[encoded data removed]"
          },
          "metadata": {}
        }
      ]
    },
    {
      "cell_type": "markdown",
      "source": [
        "From the above graph, plotting of number of installs for each category, we can conclude that most of the apps being downloaded and installed are from the categories of 'GAME' and 'COMMUNICATION'."
      ],
      "metadata": {
        "id": "3e9MF58o8rdj"
      }
    },
    {
      "cell_type": "markdown",
      "source": [
        "#11. Correlation Matrix:"
      ],
      "metadata": {
        "id": "ReJXCxvp_pur"
      }
    },
    {
      "cell_type": "code",
      "source": [
        "corr_df = ps_df1.corr()\n",
        "sns.heatmap(corr_df, annot=True)\n",
        "plt.show()"
      ],
      "metadata": {
        "id": "F7Un4EqNemfI",
        "colab": {
          "base_uri": "https://localhost:8080/",
          "height": 269
        },
        "outputId": "6034187f-e9bc-4cad-fa03-50e25007263c"
      },
      "execution_count": 42,
      "outputs": [
        {
          "output_type": "display_data",
          "data": {
            "text/plain": [
              "<Figure size 432x288 with 2 Axes>"
            ],
            "image/png": "[encoded data removed]"
          },
          "metadata": {}
        }
      ]
    },
    {
      "cell_type": "markdown",
      "source": [
        "Clearly we can see that Reviews and Installs features are more correlated and the value is 0.63."
      ],
      "metadata": {
        "id": "6hAANZWL_2nI"
      }
    },
    {
      "cell_type": "markdown",
      "source": [
        "#12. Sentiments of users towards the app store"
      ],
      "metadata": {
        "id": "hpw5y_ZtOhmL"
      }
    },
    {
      "cell_type": "code",
      "source": [
        "# plotting bar graph for the different type user sentiments from that we get most commonly used sentiment type.\n",
        "## For plotting this graph we take the help of matplotlib library\n",
        "plt.figure(figsize=(10,5))\n",
        "\n",
        "sns.set(font_scale =1)\n",
        "sns.countplot(x = ps_df2['Sentiment'], data = ps_df2)\n",
        "plt.ylabel(\"Count\")\n",
        "plt.title(\"Different type user sentiments\");\n",
        "plt.show()"
      ],
      "metadata": {
        "colab": {
          "base_uri": "https://localhost:8080/",
          "height": 355
        },
        "id": "v5GGm3aX_2EC",
        "outputId": "d61d6d07-961a-49b3-c064-ead04f07cd7f"
      },
      "execution_count": 43,
      "outputs": [
        {
          "output_type": "display_data",
          "data": {
            "text/plain": [
              "<Figure size 720x360 with 1 Axes>"
            ],
            "image/png": "[encoded data removed]"
          },
          "metadata": {}
        }
      ]
    },
    {
      "cell_type": "markdown",
      "source": [
        "From the above graph, we can conclude that most of the user have the positive attitude towards the apps available on the app store."
      ],
      "metadata": {
        "id": "_QendmgeOu8I"
      }
    },
    {
      "cell_type": "markdown",
      "source": [
        "#**Summary and Conclusion**"
      ],
      "metadata": {
        "id": "jb-2Dm_TVxO5"
      }
    },
    {
      "cell_type": "markdown",
      "source": [
        "The Google Play Store Apps data analysis provides some useful insights regarding the trending of the apps in the play store. As per the graphs visualizations shown above, most of the trending apps (in terms of users' installs) are from the categories like GAME, COMMUNICATION, and TOOL even though the amount of available apps from these categories are twice as much lesser than the category FAMILY.\n",
        "\n",
        "The trending of these apps are most probably due to their nature of being able to entertain or assist the user. Besides, it also shows a good trend where we can see that developers from these categories are focusing on the quality instead of the quantity of the apps as most of them are getting positive sentimental support from the users"
      ],
      "metadata": {
        "id": "VMfMswRybyat"
      }
    },
    {
      "cell_type": "markdown",
      "source": [
        "\n",
        "Major inferences of our analysis are as follows :\n",
        "1.   The the top 5 apps installed by the user are: Facebook, WhatsApp Messenger, Instagram, Messenger – Text and Video Chat for Free, Clash of Clans\n",
        "2.   The top 5 apps most reviewed by the users are: Photo Editor & Candy Camera & Grid & ScrapBook, Coloring book moana, U Launcher Lite – FREE Live Cool Themes, Hide Apps, Sketch - Draw & Paint, Pixel Draw - Number Art Coloring Book\n",
        "3.    The top 5 expensive apps available on the playstore are: I'm Rich - Trump Edition, I'm Rich/Eu sou Rico/أنا غني/我很有錢, I am Rich Plus, I am rich (Most expensive app), I Am Rich Premium\n",
        "4.    The 5 apps from the Finance category having the lowest rating are: CB Mobile Biz, Tech CU Card Manager, EY TaxChat, CB Mobile Access, Bitcoin BX Thailand PRO\n",
        "5.   The top 5 most installed apps in Game category are: Subway Surfers, Candy Crush Saga, My Talking Tom, Temple Run 2, Pou\n"
      ],
      "metadata": {
        "id": "AGWsqzqfFlnw"
      }
    },
    {
      "cell_type": "markdown",
      "source": [
        "On the other hand, the charts shown above actually implies that most of the apps having good ratings of above 4.0 are mostly confirmed to have high amount of reviews and user installs. There are majority of apps which are available free around 92 % and only very few i.e. 8% are paid apps. Futhermore, most of the apps that are having high amount of reviews are from the categories of SOCIAL, COMMUNICATION and GAME like Facebook, WhatsApp Messenger, Instagram, Messenger – Text and Video Chat for Free, Clash of Clans etc."
      ],
      "metadata": {
        "id": "UbvCnqD0HHzD"
      }
    },
    {
      "cell_type": "markdown",
      "source": [],
      "metadata": {
        "id": "bH2CH45pOVjL"
      }
    },
    {
      "cell_type": "code",
      "source": [],
      "metadata": {
        "id": "EWQepSCkPDLI"
      },
      "execution_count": null,
      "outputs": []
    }
  ]
}